{
 "cells": [
  {
   "cell_type": "markdown",
   "metadata": {},
   "source": [
    "### User Collaborative Filtering\n"
   ]
  },
  {
   "cell_type": "code",
   "execution_count": 48,
   "metadata": {},
   "outputs": [],
   "source": [
    "import numpy as np\n",
    "import pandas as pd"
   ]
  },
  {
   "cell_type": "code",
   "execution_count": 49,
   "metadata": {},
   "outputs": [
    {
     "data": {
      "text/html": [
       "<div>\n",
       "<style scoped>\n",
       "    .dataframe tbody tr th:only-of-type {\n",
       "        vertical-align: middle;\n",
       "    }\n",
       "\n",
       "    .dataframe tbody tr th {\n",
       "        vertical-align: top;\n",
       "    }\n",
       "\n",
       "    .dataframe thead th {\n",
       "        text-align: right;\n",
       "    }\n",
       "</style>\n",
       "<table border=\"1\" class=\"dataframe\">\n",
       "  <thead>\n",
       "    <tr style=\"text-align: right;\">\n",
       "      <th></th>\n",
       "      <th>Narnia1</th>\n",
       "      <th>Narnia2</th>\n",
       "      <th>LOTR1</th>\n",
       "      <th>LOTR2</th>\n",
       "      <th>XMEN</th>\n",
       "      <th>XMENUnited</th>\n",
       "    </tr>\n",
       "  </thead>\n",
       "  <tbody>\n",
       "    <tr>\n",
       "      <th>Chloe</th>\n",
       "      <td>5.0</td>\n",
       "      <td>5</td>\n",
       "      <td>4</td>\n",
       "      <td></td>\n",
       "      <td></td>\n",
       "      <td></td>\n",
       "    </tr>\n",
       "    <tr>\n",
       "      <th>Carlos</th>\n",
       "      <td>5.0</td>\n",
       "      <td>4</td>\n",
       "      <td>4</td>\n",
       "      <td>1.0</td>\n",
       "      <td></td>\n",
       "      <td></td>\n",
       "    </tr>\n",
       "    <tr>\n",
       "      <th>Angelica</th>\n",
       "      <td>1.0</td>\n",
       "      <td>1</td>\n",
       "      <td>5</td>\n",
       "      <td>5.0</td>\n",
       "      <td>5.0</td>\n",
       "      <td>5.0</td>\n",
       "    </tr>\n",
       "    <tr>\n",
       "      <th>Sara</th>\n",
       "      <td></td>\n",
       "      <td>1</td>\n",
       "      <td>5</td>\n",
       "      <td>5.0</td>\n",
       "      <td>4.0</td>\n",
       "      <td>4.0</td>\n",
       "    </tr>\n",
       "  </tbody>\n",
       "</table>\n",
       "</div>"
      ],
      "text/plain": [
       "         Narnia1  Narnia2  LOTR1 LOTR2 XMEN XMENUnited\n",
       "Chloe        5.0        5      4                      \n",
       "Carlos       5.0        4      4   1.0                \n",
       "Angelica     1.0        1      5   5.0  5.0        5.0\n",
       "Sara                    1      5   5.0  4.0        4.0"
      ]
     },
     "execution_count": 49,
     "metadata": {},
     "output_type": "execute_result"
    }
   ],
   "source": [
    "df_utility = pd.DataFrame(\n",
    "    {\n",
    "        \"Narnia1\": np.array([5, 5, 1, np.nan]),\n",
    "        \"Narnia2\": np.array([5, 4, 1, 1]),\n",
    "        \"LOTR1\": np.array([4, 4, 5, 5]),\n",
    "        \"LOTR2\": np.array([np.nan, 1, 5, 5]),\n",
    "        \"XMEN\": np.array([np.nan, np.nan, 5, 4]),\n",
    "        \"XMENUnited\": np.array([np.nan, np.nan, 5, 4]),\n",
    "    },\n",
    "    index=[\"Chloe\", \"Carlos\", \"Angelica\", \"Sara\"],\n",
    ")\n",
    "df_utility.replace({np.nan: \"\"})"
   ]
  },
  {
   "cell_type": "code",
   "execution_count": 50,
   "metadata": {},
   "outputs": [
    {
     "data": {
      "text/plain": [
       "Narnia1       NaN\n",
       "Narnia2       1.0\n",
       "LOTR1         NaN\n",
       "LOTR2         5.0\n",
       "XMEN          NaN\n",
       "XMENUnited    5.0\n",
       "dtype: float64"
      ]
     },
     "execution_count": 50,
     "metadata": {},
     "output_type": "execute_result"
    }
   ],
   "source": [
    "alice = pd.Series([np.nan, 1, np.nan, 5, np.nan, 5], index=df_utility.columns)\n",
    "alice"
   ]
  },
  {
   "cell_type": "code",
   "execution_count": 51,
   "metadata": {},
   "outputs": [
    {
     "data": {
      "text/html": [
       "<div>\n",
       "<style scoped>\n",
       "    .dataframe tbody tr th:only-of-type {\n",
       "        vertical-align: middle;\n",
       "    }\n",
       "\n",
       "    .dataframe tbody tr th {\n",
       "        vertical-align: top;\n",
       "    }\n",
       "\n",
       "    .dataframe thead th {\n",
       "        text-align: right;\n",
       "    }\n",
       "</style>\n",
       "<table border=\"1\" class=\"dataframe\">\n",
       "  <thead>\n",
       "    <tr style=\"text-align: right;\">\n",
       "      <th></th>\n",
       "      <th>Narnia1</th>\n",
       "      <th>Narnia2</th>\n",
       "      <th>LOTR1</th>\n",
       "      <th>LOTR2</th>\n",
       "      <th>XMEN</th>\n",
       "      <th>XMENUnited</th>\n",
       "    </tr>\n",
       "  </thead>\n",
       "  <tbody>\n",
       "    <tr>\n",
       "      <th>Chloe</th>\n",
       "      <td>5.0</td>\n",
       "      <td>5.0</td>\n",
       "      <td>4.0</td>\n",
       "      <td>NaN</td>\n",
       "      <td>NaN</td>\n",
       "      <td>NaN</td>\n",
       "    </tr>\n",
       "    <tr>\n",
       "      <th>Carlos</th>\n",
       "      <td>5.0</td>\n",
       "      <td>4.0</td>\n",
       "      <td>4.0</td>\n",
       "      <td>1.0</td>\n",
       "      <td>NaN</td>\n",
       "      <td>NaN</td>\n",
       "    </tr>\n",
       "    <tr>\n",
       "      <th>Angelica</th>\n",
       "      <td>1.0</td>\n",
       "      <td>1.0</td>\n",
       "      <td>5.0</td>\n",
       "      <td>5.0</td>\n",
       "      <td>5.0</td>\n",
       "      <td>5.0</td>\n",
       "    </tr>\n",
       "    <tr>\n",
       "      <th>Sara</th>\n",
       "      <td>NaN</td>\n",
       "      <td>1.0</td>\n",
       "      <td>5.0</td>\n",
       "      <td>5.0</td>\n",
       "      <td>4.0</td>\n",
       "      <td>4.0</td>\n",
       "    </tr>\n",
       "    <tr>\n",
       "      <th>Alice</th>\n",
       "      <td>NaN</td>\n",
       "      <td>1.0</td>\n",
       "      <td>NaN</td>\n",
       "      <td>5.0</td>\n",
       "      <td>NaN</td>\n",
       "      <td>5.0</td>\n",
       "    </tr>\n",
       "  </tbody>\n",
       "</table>\n",
       "</div>"
      ],
      "text/plain": [
       "          Narnia1  Narnia2  LOTR1  LOTR2  XMEN  XMENUnited\n",
       "Chloe         5.0      5.0    4.0    NaN   NaN         NaN\n",
       "Carlos        5.0      4.0    4.0    1.0   NaN         NaN\n",
       "Angelica      1.0      1.0    5.0    5.0   5.0         5.0\n",
       "Sara          NaN      1.0    5.0    5.0   4.0         4.0\n",
       "Alice         NaN      1.0    NaN    5.0   NaN         5.0"
      ]
     },
     "execution_count": 51,
     "metadata": {},
     "output_type": "execute_result"
    }
   ],
   "source": [
    "# add alice to the df_utility\n",
    "df_utility.loc[\"Alice\"] = alice\n",
    "\n",
    "df_utility\n"
   ]
  },
  {
   "cell_type": "code",
   "execution_count": 52,
   "metadata": {},
   "outputs": [],
   "source": [
    "def raw_cos(a, b):\n",
    "    \"\"\"\n",
    "      Accepts two pandas `Series` and returns the cosine distance \n",
    "      between the two with respect to common non-null values. \n",
    "      Return `0` if there is no common non-null value or one of them has length `0`.\n",
    "    \"\"\"\n",
    "\n",
    "    # Return 0 if one of them has length `0`\n",
    "    if a.empty or b.empty:\n",
    "        return 0\n",
    "\n",
    "    common = pd.concat([a, b], axis=1).dropna()\n",
    "    # Return 0 if there are no common non-null values\n",
    "    if common.empty:\n",
    "        return 0\n",
    "\n",
    "    # lets get common values from both series\n",
    "    a_common = a[common.index]\n",
    "    b_common = b[common.index]\n",
    "\n",
    "    # Calculate the cosine distance\n",
    "    dot_product = np.dot(a_common, b_common)\n",
    "    norm_a = np.linalg.norm(a_common)\n",
    "    norm_b = np.linalg.norm(b_common)\n",
    "    # handle when norm is 0\n",
    "    if norm_a == 0 or norm_b == 0:\n",
    "        return 0\n",
    "\n",
    "    return dot_product / (norm_a * norm_b)"
   ]
  },
  {
   "cell_type": "markdown",
   "metadata": {},
   "source": [
    "There are multiple ways to compute for similarity of users. Below are 2 examples that uses cosine distance and adjusted cosine distance.\n",
    "Adjusted cosine distance performs mean-centering of the values first before the distance calculation. \n",
    "Mean centering minimizes bias when user consistently rates high rating on all movies and also addresses outliers with very large values."
   ]
  },
  {
   "cell_type": "code",
   "execution_count": 47,
   "metadata": {},
   "outputs": [
    {
     "name": "stdout",
     "output_type": "stream",
     "text": [
      "Cos -  Not Mean Centered\n",
      "             Chloe    Carlos  Angelica      Sara     Alice\n",
      "Chloe          1.0  0.994536  0.710669  0.765705       1.0\n",
      "Carlos    0.994536       1.0  0.619103  0.706897  0.428086\n",
      "Angelica  0.710669  0.619103       1.0  0.993898       1.0\n",
      "Sara      0.765705  0.706897  0.993898       1.0  0.993912\n",
      "Alice          1.0  0.428086       1.0  0.993912       1.0\n",
      "\n",
      "Adjusted Cost - Mean Centered\n",
      "             Chloe    Carlos  Angelica      Sara     Alice\n",
      "Chloe          1.0  0.246183 -0.816497 -0.763386      -1.0\n",
      "Carlos    0.246183       1.0 -0.632456 -0.446719 -0.613941\n",
      "Angelica -0.816497 -0.632456       1.0  0.903696       1.0\n",
      "Sara     -0.763386 -0.446719  0.903696       1.0  0.936083\n",
      "Alice         -1.0 -0.613941       1.0  0.936083       1.0\n"
     ]
    }
   ],
   "source": [
    "raw_cos_matrix = pd.DataFrame(index=df_utility.index, columns=df_utility.index)\n",
    "for i in df_utility.index:\n",
    "    for j in df_utility.index:\n",
    "        raw_cos_matrix.loc[i, j] = raw_cos(\n",
    "            df_utility.loc[i], df_utility.loc[j])\n",
    "        \n",
    "# let's compare results in a matrix\n",
    "mean_centered = df_utility.sub(df_utility.mean(axis=1), axis=0)\n",
    "adj_cos_matrix = pd.DataFrame(index=mean_centered.index, columns=mean_centered.index)\n",
    "for i in mean_centered.index:\n",
    "    for j in mean_centered.index:\n",
    "        adj_cos_matrix.loc[i, j] = raw_cos(\n",
    "            mean_centered.loc[i], mean_centered.loc[j])        \n",
    "\n",
    "print('Cos -  Not Mean Centered')\n",
    "print(raw_cos_matrix)\n",
    "print('\\nAdjusted Cost - Mean Centered')\n",
    "print(adj_cos_matrix)"
   ]
  },
  {
   "cell_type": "markdown",
   "metadata": {},
   "source": [
    "Now that we have the similarity matrix, we can predict the item rating prediction for all users and on all items.\n",
    "This builds a complete matrix of the user-item ratings prediction."
   ]
  },
  {
   "cell_type": "code",
   "execution_count": 53,
   "metadata": {},
   "outputs": [
    {
     "data": {
      "text/html": [
       "<div>\n",
       "<style scoped>\n",
       "    .dataframe tbody tr th:only-of-type {\n",
       "        vertical-align: middle;\n",
       "    }\n",
       "\n",
       "    .dataframe tbody tr th {\n",
       "        vertical-align: top;\n",
       "    }\n",
       "\n",
       "    .dataframe thead th {\n",
       "        text-align: right;\n",
       "    }\n",
       "</style>\n",
       "<table border=\"1\" class=\"dataframe\">\n",
       "  <thead>\n",
       "    <tr style=\"text-align: right;\">\n",
       "      <th></th>\n",
       "      <th>LOTR1</th>\n",
       "      <th>LOTR2</th>\n",
       "      <th>Narnia1</th>\n",
       "      <th>Narnia2</th>\n",
       "      <th>XMEN</th>\n",
       "      <th>XMENUnited</th>\n",
       "    </tr>\n",
       "  </thead>\n",
       "  <tbody>\n",
       "    <tr>\n",
       "      <th>Alice</th>\n",
       "      <td>4.935534</td>\n",
       "      <td>5.000000</td>\n",
       "      <td>1.000000</td>\n",
       "      <td>1.0</td>\n",
       "      <td>4.452041</td>\n",
       "      <td>5.0</td>\n",
       "    </tr>\n",
       "    <tr>\n",
       "      <th>Angelica</th>\n",
       "      <td>5.000000</td>\n",
       "      <td>5.000000</td>\n",
       "      <td>1.000000</td>\n",
       "      <td>1.0</td>\n",
       "      <td>5.000000</td>\n",
       "      <td>5.0</td>\n",
       "    </tr>\n",
       "    <tr>\n",
       "      <th>Carlos</th>\n",
       "      <td>4.000000</td>\n",
       "      <td>1.000000</td>\n",
       "      <td>5.000000</td>\n",
       "      <td>4.0</td>\n",
       "      <td>NaN</td>\n",
       "      <td>NaN</td>\n",
       "    </tr>\n",
       "    <tr>\n",
       "      <th>Chloe</th>\n",
       "      <td>4.000000</td>\n",
       "      <td>2.166667</td>\n",
       "      <td>5.000000</td>\n",
       "      <td>5.0</td>\n",
       "      <td>NaN</td>\n",
       "      <td>NaN</td>\n",
       "    </tr>\n",
       "    <tr>\n",
       "      <th>Sara</th>\n",
       "      <td>5.000000</td>\n",
       "      <td>5.000000</td>\n",
       "      <td>1.133333</td>\n",
       "      <td>1.0</td>\n",
       "      <td>4.000000</td>\n",
       "      <td>4.0</td>\n",
       "    </tr>\n",
       "  </tbody>\n",
       "</table>\n",
       "</div>"
      ],
      "text/plain": [
       "             LOTR1     LOTR2   Narnia1  Narnia2      XMEN  XMENUnited\n",
       "Alice     4.935534  5.000000  1.000000      1.0  4.452041         5.0\n",
       "Angelica  5.000000  5.000000  1.000000      1.0  5.000000         5.0\n",
       "Carlos    4.000000  1.000000  5.000000      4.0       NaN         NaN\n",
       "Chloe     4.000000  2.166667  5.000000      5.0       NaN         NaN\n",
       "Sara      5.000000  5.000000  1.133333      1.0  4.000000         4.0"
      ]
     },
     "metadata": {},
     "output_type": "display_data"
    }
   ],
   "source": [
    "\n",
    "similarity_matrix = adj_cos_matrix\n",
    "# Ensure diagonals are 0 (user similarity with themselves shouldn't count)\n",
    "np.fill_diagonal(similarity_matrix.values, 0)\n",
    "k=2\n",
    "# Create a copy of the original matrix to fill in missing values\n",
    "completed_matrix = df_utility.copy()\n",
    "\n",
    "# Fill in missing values\n",
    "for user in df_utility.index:\n",
    "    # get the average rating of the user\n",
    "    user_mean_rating = df_utility.loc[user].mean(skipna=True)\n",
    "    # Get the k most similar users\n",
    "    similar_users = similarity_matrix.loc[user].sort_values(\n",
    "        ascending=False)\n",
    "\n",
    "    for item in df_utility.columns:\n",
    "        if pd.isnull(df_utility.loc[user, item]):\n",
    "            # filter only similar users with value greater than 0\n",
    "            top_k_rated_users = similar_users.head(k)\n",
    "            # Get the weighted average rating of the k most similar users\n",
    "            avg_rating = 0\n",
    "            total_weight = 0\n",
    "            for similar_user in top_k_rated_users.index:\n",
    "                if pd.notnull(df_utility.loc[similar_user, item]):                        \n",
    "                    similarity = similarity_matrix.loc[user, similar_user]\n",
    "                    # get the mean rating of the similar user that is not null\n",
    "                    mean_rating = df_utility.loc[similar_user].mean(\n",
    "                        skipna=True)\n",
    "                    avg_rating += similarity * \\\n",
    "                        (df_utility.loc[similar_user, item] - mean_rating)\n",
    "                    total_weight += abs(similarity)\n",
    "\n",
    "                          \n",
    "            if total_weight > 0:\n",
    "                completed_matrix.loc[user, item] = user_mean_rating + \\\n",
    "                    avg_rating / total_weight\n",
    "\n",
    "# Sort by increasing user or itemId if distance is the same\n",
    "completed_matrix = completed_matrix.sort_index(axis=0).sort_index(axis=1)\n",
    "\n",
    "display(completed_matrix)"
   ]
  },
  {
   "cell_type": "markdown",
   "metadata": {},
   "source": [
    "We can then use this matrix to recommend items that are highly rated by prediction, but not yet rated."
   ]
  },
  {
   "cell_type": "code",
   "execution_count": 54,
   "metadata": {},
   "outputs": [
    {
     "name": "stdout",
     "output_type": "stream",
     "text": [
      "LOTR1    4.935534\n",
      "XMEN     4.452041\n",
      "Name: Alice, dtype: float64\n"
     ]
    }
   ],
   "source": [
    "# get all items not yet rated by the user\n",
    "not_rated = df_utility.loc[user][df_utility.loc[user].isnull()].index\n",
    "\n",
    "# return the index to the n highest rated items\n",
    "print(completed_matrix.loc[user, not_rated].sort_values(ascending=False).head(2))"
   ]
  },
  {
   "cell_type": "markdown",
   "metadata": {},
   "source": [
    "We can see the top 2 movies recommended are Narnia."
   ]
  }
 ],
 "metadata": {
  "kernelspec": {
   "display_name": "base",
   "language": "python",
   "name": "python3"
  },
  "language_info": {
   "codemirror_mode": {
    "name": "ipython",
    "version": 3
   },
   "file_extension": ".py",
   "mimetype": "text/x-python",
   "name": "python",
   "nbconvert_exporter": "python",
   "pygments_lexer": "ipython3",
   "version": "3.12.2"
  }
 },
 "nbformat": 4,
 "nbformat_minor": 2
}
