{
  "cells": [
    {
      "cell_type": "markdown",
      "metadata": {
        "id": "gJXW_DgiSebM"
      },
      "source": [
        "# LangGraph and LangSmith - Agentic RAG Powered by LangChain\n",
        "\n",
        "In the following notebook we'll complete the following tasks:\n",
        "\n",
        "- 🤝 Breakout Room #1:\n",
        "  1. Install required libraries\n",
        "  2. Set Environment Variables\n",
        "  3. Creating our Tool Belt\n",
        "  4. Creating Our State\n",
        "  5. Creating and Compiling A Graph!\n",
        "\n",
        "- 🤝 Breakout Room #2:\n",
        "  1. Evaluating the LangGraph Application with LangSmith\n",
        "  2. Adding Helpfulness Check and \"Loop\" Limits\n",
        "  3. LangGraph for the \"Patterns\" of GenAI"
      ]
    },
    {
      "cell_type": "markdown",
      "metadata": {
        "id": "djQ3nRAgoF67"
      },
      "source": [
        "# 🤝 Breakout Room #1"
      ]
    },
    {
      "cell_type": "markdown",
      "metadata": {
        "id": "e7pQDUhUnIo8"
      },
      "source": [
        "## Part 1: LangGraph - Building Cyclic Applications with LangChain\n",
        "\n",
        "LangGraph is a tool that leverages LangChain Expression Language to build coordinated multi-actor and stateful applications that includes cyclic behaviour.\n",
        "\n",
        "### Why Cycles?\n",
        "\n",
        "In essence, we can think of a cycle in our graph as a more robust and customizable loop. It allows us to keep our application agent-forward while still giving the powerful functionality of traditional loops.\n",
        "\n",
        "Due to the inclusion of cycles over loops, we can also compose rather complex flows through our graph in a much more readable and natural fashion. Effectively allowing us to recreate application flowcharts in code in an almost 1-to-1 fashion.\n",
        "\n",
        "### Why LangGraph?\n",
        "\n",
        "Beyond the agent-forward approach - we can easily compose and combine traditional \"DAG\" (directed acyclic graph) chains with powerful cyclic behaviour due to the tight integration with LCEL. This means it's a natural extension to LangChain's core offerings!"
      ]
    },
    {
      "cell_type": "markdown",
      "metadata": {
        "id": "3_fLDElOVoop"
      },
      "source": [
        "## Task 1:  Dependencies\n"
      ]
    },
    {
      "cell_type": "markdown",
      "metadata": {
        "id": "wujPjGJuoPwg"
      },
      "source": [
        "## Task 2: Environment Variables\n",
        "\n",
        "We'll want to set both our OpenAI API key and our LangSmith environment variables."
      ]
    },
    {
      "cell_type": "code",
      "execution_count": 1,
      "metadata": {
        "colab": {
          "base_uri": "https://localhost:8080/"
        },
        "id": "Jdh8CoVWHRvs",
        "outputId": "3fa78560-393c-4ee5-b871-9886bf0d70f4"
      },
      "outputs": [],
      "source": [
        "import os\n",
        "import getpass\n",
        "\n",
        "os.environ[\"OPENAI_API_KEY\"] = getpass.getpass(\"OpenAI API Key:\")"
      ]
    },
    {
      "cell_type": "code",
      "execution_count": 2,
      "metadata": {
        "colab": {
          "base_uri": "https://localhost:8080/"
        },
        "id": "Jkla2fpx28QK",
        "outputId": "52d7ad22-fcb1-4abe-853b-216c55a12650"
      },
      "outputs": [],
      "source": [
        "os.environ[\"TAVILY_API_KEY\"] = getpass.getpass(\"TAVILY_API_KEY\")"
      ]
    },
    {
      "cell_type": "code",
      "execution_count": 3,
      "metadata": {
        "colab": {
          "base_uri": "https://localhost:8080/"
        },
        "id": "Nv0glIDyHmRt",
        "outputId": "b69df90a-b4e1-4ddb-9de0-882d98b68ab2"
      },
      "outputs": [],
      "source": [
        "from uuid import uuid4\n",
        "\n",
        "os.environ[\"LANGCHAIN_TRACING_V2\"] = \"true\"\n",
        "os.environ[\"LANGCHAIN_PROJECT\"] = f\"AIE7 - LangGraph - {uuid4().hex[0:8]}\"\n",
        "os.environ[\"LANGCHAIN_API_KEY\"] = getpass.getpass(\"LangSmith API Key: \")"
      ]
    },
    {
      "cell_type": "markdown",
      "metadata": {
        "id": "sBRyQmEAVzua"
      },
      "source": [
        "## Task 3: Creating our Tool Belt\n",
        "\n",
        "As is usually the case, we'll want to equip our agent with a toolbelt to help answer questions and add external knowledge.\n",
        "\n",
        "There's a tonne of tools in the [LangChain Community Repo](https://github.com/langchain-ai/langchain-community/tree/main/libs/community) but we'll stick to a couple just so we can observe the cyclic nature of LangGraph in action!\n",
        "\n",
        "We'll leverage:\n",
        "\n",
        "- [Tavily Search Results](https://github.com/langchain-ai/langchain-community/blob/main/libs/community/langchain_community/tools/tavily_search/tool.py)\n",
        "- [Arxiv](https://github.com/langchain-ai/langchain-community/blob/main/libs/community/langchain_community/tools/arxiv/tool.py)"
      ]
    },
    {
      "cell_type": "markdown",
      "metadata": {
        "id": "2k6n_Dob2F46"
      },
      "source": [
        "#### 🏗️ Activity #1:\n",
        "\n",
        "Please add the tools to use into our toolbelt.\n",
        "\n",
        "> NOTE: Each tool in our toolbelt should be a method."
      ]
    },
    {
      "cell_type": "code",
      "execution_count": 5,
      "metadata": {
        "id": "lAxaSvlfIeOg"
      },
      "outputs": [],
      "source": [
        "from langchain_community.tools.tavily_search import TavilySearchResults\n",
        "from langchain_community.tools.arxiv.tool import ArxivQueryRun\n",
        "\n",
        "tavily_tool = TavilySearchResults(max_results=5)\n",
        "\n",
        "tool_belt = [\n",
        "    tavily_tool,\n",
        "    ArxivQueryRun(),\n",
        "]"
      ]
    },
    {
      "cell_type": "markdown",
      "metadata": {
        "id": "VI-C669ZYVI5"
      },
      "source": [
        "### Model\n",
        "\n",
        "Now we can set-up our model! We'll leverage the familiar OpenAI model suite for this example - but it's not *necessary* to use with LangGraph. LangGraph supports all models - though you might not find success with smaller models - as such, they recommend you stick with:\n",
        "\n",
        "- OpenAI's GPT-3.5 and GPT-4\n",
        "- Anthropic's Claude\n",
        "- Google's Gemini\n",
        "\n",
        "> NOTE: Because we're leveraging the OpenAI function calling API - we'll need to use OpenAI *for this specific example* (or any other service that exposes an OpenAI-style function calling API."
      ]
    },
    {
      "cell_type": "code",
      "execution_count": null,
      "metadata": {
        "id": "QkNS8rNZJs4z"
      },
      "outputs": [],
      "source": [
        "from langchain_openai import ChatOpenAI\n",
        "\n",
        "model = ChatOpenAI(model=\"gpt-4.1-nano\", temperature=0)"
      ]
    },
    {
      "cell_type": "markdown",
      "metadata": {
        "id": "Ugkj3GzuZpQv"
      },
      "source": [
        "Now that we have our model set-up, let's \"put on the tool belt\", which is to say: We'll bind our LangChain formatted tools to the model in an OpenAI function calling format."
      ]
    },
    {
      "cell_type": "code",
      "execution_count": 7,
      "metadata": {
        "id": "4OdMqFafZ_0V"
      },
      "outputs": [],
      "source": [
        "model = model.bind_tools(tool_belt)"
      ]
    },
    {
      "cell_type": "markdown",
      "metadata": {
        "id": "ERzuGo6W18Lr"
      },
      "source": [
        "#### ❓ Question #1:\n",
        "\n",
        "How does the model determine which tool to use?"
      ]
    },
    {
      "cell_type": "markdown",
      "metadata": {
        "id": "_296Ub96Z_H8"
      },
      "source": [
        "## Task 4: Putting the State in Stateful\n",
        "\n",
        "Earlier we used this phrasing:\n",
        "\n",
        "`coordinated multi-actor and stateful applications`\n",
        "\n",
        "So what does that \"stateful\" mean?\n",
        "\n",
        "To put it simply - we want to have some kind of object which we can pass around our application that holds information about what the current situation (state) is. Since our system will be constructed of many parts moving in a coordinated fashion - we want to be able to ensure we have some commonly understood idea of that state.\n",
        "\n",
        "LangGraph leverages a `StatefulGraph` which uses an `AgentState` object to pass information between the various nodes of the graph.\n",
        "\n",
        "There are more options than what we'll see below - but this `AgentState` object is one that is stored in a `TypedDict` with the key `messages` and the value is a `Sequence` of `BaseMessages` that will be appended to whenever the state changes.\n",
        "\n",
        "Let's think about a simple example to help understand exactly what this means (we'll simplify a great deal to try and clearly communicate what state is doing):\n",
        "\n",
        "1. We initialize our state object:\n",
        "  - `{\"messages\" : []}`\n",
        "2. Our user submits a query to our application.\n",
        "  - New State: `HumanMessage(#1)`\n",
        "  - `{\"messages\" : [HumanMessage(#1)}`\n",
        "3. We pass our state object to an Agent node which is able to read the current state. It will use the last `HumanMessage` as input. It gets some kind of output which it will add to the state.\n",
        "  - New State: `AgentMessage(#1, additional_kwargs {\"function_call\" : \"WebSearchTool\"})`\n",
        "  - `{\"messages\" : [HumanMessage(#1), AgentMessage(#1, ...)]}`\n",
        "4. We pass our state object to a \"conditional node\" (more on this later) which reads the last state to determine if we need to use a tool - which it can determine properly because of our provided object!"
      ]
    },
    {
      "cell_type": "code",
      "execution_count": 8,
      "metadata": {
        "id": "mxL9b_NZKUdL"
      },
      "outputs": [],
      "source": [
        "from typing import TypedDict, Annotated\n",
        "from langgraph.graph.message import add_messages\n",
        "import operator\n",
        "from langchain_core.messages import BaseMessage\n",
        "\n",
        "class AgentState(TypedDict):\n",
        "  messages: Annotated[list, add_messages]"
      ]
    },
    {
      "cell_type": "markdown",
      "metadata": {
        "id": "vWsMhfO9grLu"
      },
      "source": [
        "## Task 5: It's Graphing Time!\n",
        "\n",
        "Now that we have state, and we have tools, and we have an LLM - we can finally start making our graph!\n",
        "\n",
        "Let's take a second to refresh ourselves about what a graph is in this context.\n",
        "\n",
        "Graphs, also called networks in some circles, are a collection of connected objects.\n",
        "\n",
        "The objects in question are typically called nodes, or vertices, and the connections are called edges.\n",
        "\n",
        "Let's look at a simple graph.\n",
        "\n",
        "![image](https://i.imgur.com/2NFLnIc.png)\n",
        "\n",
        "Here, we're using the coloured circles to represent the nodes and the yellow lines to represent the edges. In this case, we're looking at a fully connected graph - where each node is connected by an edge to each other node.\n",
        "\n",
        "If we were to think about nodes in the context of LangGraph - we would think of a function, or an LCEL runnable.\n",
        "\n",
        "If we were to think about edges in the context of LangGraph - we might think of them as \"paths to take\" or \"where to pass our state object next\".\n",
        "\n",
        "Let's create some nodes and expand on our diagram.\n",
        "\n",
        "> NOTE: Due to the tight integration with LCEL - we can comfortably create our nodes in an async fashion!"
      ]
    },
    {
      "cell_type": "code",
      "execution_count": 9,
      "metadata": {
        "id": "91flJWtZLUrl"
      },
      "outputs": [],
      "source": [
        "from langgraph.prebuilt import ToolNode\n",
        "\n",
        "def call_model(state):\n",
        "  messages = state[\"messages\"]\n",
        "  response = model.invoke(messages)\n",
        "  return {\"messages\" : [response]}\n",
        "\n",
        "tool_node = ToolNode(tool_belt)"
      ]
    },
    {
      "cell_type": "markdown",
      "metadata": {
        "id": "2bwR7MgWj3Wg"
      },
      "source": [
        "Now we have two total nodes. We have:\n",
        "\n",
        "- `call_model` is a node that will...well...call the model\n",
        "- `tool_node` is a node which can call a tool\n",
        "\n",
        "Let's start adding nodes! We'll update our diagram along the way to keep track of what this looks like!\n"
      ]
    },
    {
      "cell_type": "code",
      "execution_count": 10,
      "metadata": {
        "colab": {
          "base_uri": "https://localhost:8080/"
        },
        "id": "_vF4_lgtmQNo",
        "outputId": "a4384377-8f7a-415f-be1b-fee6169cb101"
      },
      "outputs": [
        {
          "data": {
            "text/plain": [
              "<langgraph.graph.state.StateGraph at 0x7fec06cf4ec0>"
            ]
          },
          "execution_count": 10,
          "metadata": {},
          "output_type": "execute_result"
        }
      ],
      "source": [
        "from langgraph.graph import StateGraph, END\n",
        "\n",
        "uncompiled_graph = StateGraph(AgentState)\n",
        "\n",
        "uncompiled_graph.add_node(\"agent\", call_model)\n",
        "uncompiled_graph.add_node(\"action\", tool_node)"
      ]
    },
    {
      "cell_type": "markdown",
      "metadata": {
        "id": "b8CjRlbVmRpW"
      },
      "source": [
        "Let's look at what we have so far:\n",
        "\n",
        "![image](https://i.imgur.com/md7inqG.png)"
      ]
    },
    {
      "cell_type": "markdown",
      "metadata": {
        "id": "uaXHpPeSnOWC"
      },
      "source": [
        "Next, we'll add our entrypoint. All our entrypoint does is indicate which node is called first."
      ]
    },
    {
      "cell_type": "code",
      "execution_count": 11,
      "metadata": {
        "colab": {
          "base_uri": "https://localhost:8080/"
        },
        "id": "YGCbaYqRnmiw",
        "outputId": "5351807c-2ac7-4316-a3a3-878abeacd114"
      },
      "outputs": [
        {
          "data": {
            "text/plain": [
              "<langgraph.graph.state.StateGraph at 0x7fec06cf4ec0>"
            ]
          },
          "execution_count": 11,
          "metadata": {},
          "output_type": "execute_result"
        }
      ],
      "source": [
        "uncompiled_graph.set_entry_point(\"agent\")"
      ]
    },
    {
      "cell_type": "markdown",
      "metadata": {
        "id": "BUsfGoSpoF9U"
      },
      "source": [
        "![image](https://i.imgur.com/wNixpJe.png)"
      ]
    },
    {
      "cell_type": "markdown",
      "metadata": {
        "id": "0Q_pQgHmoW0M"
      },
      "source": [
        "Now we want to build a \"conditional edge\" which will use the output state of a node to determine which path to follow.\n",
        "\n",
        "We can help conceptualize this by thinking of our conditional edge as a conditional in a flowchart!\n",
        "\n",
        "Notice how our function simply checks if there is a \"function_call\" kwarg present.\n",
        "\n",
        "Then we create an edge where the origin node is our agent node and our destination node is *either* the action node or the END (finish the graph).\n",
        "\n",
        "It's important to highlight that the dictionary passed in as the third parameter (the mapping) should be created with the possible outputs of our conditional function in mind. In this case `should_continue` outputs either `\"end\"` or `\"continue\"` which are subsequently mapped to the action node or the END node."
      ]
    },
    {
      "cell_type": "code",
      "execution_count": 12,
      "metadata": {
        "colab": {
          "base_uri": "https://localhost:8080/"
        },
        "id": "1BZgb81VQf9o",
        "outputId": "73a07c15-5f0b-40f2-b033-38b57d056dd8"
      },
      "outputs": [
        {
          "data": {
            "text/plain": [
              "<langgraph.graph.state.StateGraph at 0x7fec06cf4ec0>"
            ]
          },
          "execution_count": 12,
          "metadata": {},
          "output_type": "execute_result"
        }
      ],
      "source": [
        "def should_continue(state):\n",
        "  last_message = state[\"messages\"][-1]\n",
        "\n",
        "  if last_message.tool_calls:\n",
        "    return \"action\"\n",
        "\n",
        "  return END\n",
        "\n",
        "uncompiled_graph.add_conditional_edges(\n",
        "    \"agent\",\n",
        "    should_continue\n",
        ")"
      ]
    },
    {
      "cell_type": "markdown",
      "metadata": {
        "id": "-Cvhcf4jp0Ce"
      },
      "source": [
        "Let's visualize what this looks like.\n",
        "\n",
        "![image](https://i.imgur.com/8ZNwKI5.png)"
      ]
    },
    {
      "cell_type": "markdown",
      "metadata": {
        "id": "yKCjWJCkrJb9"
      },
      "source": [
        "Finally, we can add our last edge which will connect our action node to our agent node. This is because we *always* want our action node (which is used to call our tools) to return its output to our agent!"
      ]
    },
    {
      "cell_type": "code",
      "execution_count": 13,
      "metadata": {
        "colab": {
          "base_uri": "https://localhost:8080/"
        },
        "id": "UvcgbHf1rIXZ",
        "outputId": "45d4bdd6-d6bb-4a1d-bb79-cad43c130bf2"
      },
      "outputs": [
        {
          "data": {
            "text/plain": [
              "<langgraph.graph.state.StateGraph at 0x7fec06cf4ec0>"
            ]
          },
          "execution_count": 13,
          "metadata": {},
          "output_type": "execute_result"
        }
      ],
      "source": [
        "uncompiled_graph.add_edge(\"action\", \"agent\")"
      ]
    },
    {
      "cell_type": "markdown",
      "metadata": {
        "id": "EiWDwBQtrw7Z"
      },
      "source": [
        "Let's look at the final visualization.\n",
        "\n",
        "![image](https://i.imgur.com/NWO7usO.png)"
      ]
    },
    {
      "cell_type": "markdown",
      "metadata": {
        "id": "KYqDpErlsCsu"
      },
      "source": [
        "All that's left to do now is to compile our workflow - and we're off!"
      ]
    },
    {
      "cell_type": "code",
      "execution_count": 15,
      "metadata": {
        "id": "zt9-KS8DpzNx"
      },
      "outputs": [],
      "source": [
        "simple_agent_graph = uncompiled_graph.compile()"
      ]
    },
    {
      "cell_type": "markdown",
      "metadata": {
        "id": "xhNWIwBL1W4Q"
      },
      "source": [
        "#### ❓ Question #2:\n",
        "\n",
        "Is there any specific limit to how many times we can cycle?\n",
        "\n",
        "If not, how could we impose a limit to the number of cycles?"
      ]
    },
    {
      "cell_type": "markdown",
      "metadata": {
        "id": "VEYcTShCsPaa"
      },
      "source": [
        "## Using Our Graph\n",
        "\n",
        "Now that we've created and compiled our graph - we can call it *just as we'd call any other* `Runnable`!\n",
        "\n",
        "Let's try out a few examples to see how it fairs:"
      ]
    },
    {
      "cell_type": "code",
      "execution_count": 16,
      "metadata": {
        "colab": {
          "base_uri": "https://localhost:8080/"
        },
        "id": "Qn4n37PQRPII",
        "outputId": "5eeedfae-089d-496e-e71f-071939fa5832"
      },
      "outputs": [
        {
          "name": "stdout",
          "output_type": "stream",
          "text": [
            "Receiving update from node: 'agent'\n",
            "[AIMessage(content='', additional_kwargs={'tool_calls': [{'id': 'call_U1SxiK78cDDP6uC18g8SlITV', 'function': {'arguments': '{\"query\":\"current captain of the Winnipeg Jets 2023\"}', 'name': 'tavily_search_results_json'}, 'type': 'function'}], 'refusal': None}, response_metadata={'token_usage': {'completion_tokens': 26, 'prompt_tokens': 162, 'total_tokens': 188, 'completion_tokens_details': {'accepted_prediction_tokens': 0, 'audio_tokens': 0, 'reasoning_tokens': 0, 'rejected_prediction_tokens': 0}, 'prompt_tokens_details': {'audio_tokens': 0, 'cached_tokens': 0}}, 'model_name': 'gpt-4o-2024-08-06', 'system_fingerprint': 'fp_07871e2ad8', 'id': 'chatcmpl-Bqmu79YsgXVLwWICy7Qid9HIvs2Qe', 'service_tier': 'default', 'finish_reason': 'tool_calls', 'logprobs': None}, id='run--d4480759-f93b-4340-b3e6-42c12d6b5059-0', tool_calls=[{'name': 'tavily_search_results_json', 'args': {'query': 'current captain of the Winnipeg Jets 2023'}, 'id': 'call_U1SxiK78cDDP6uC18g8SlITV', 'type': 'tool_call'}], usage_metadata={'input_tokens': 162, 'output_tokens': 26, 'total_tokens': 188, 'input_token_details': {'audio': 0, 'cache_read': 0}, 'output_token_details': {'audio': 0, 'reasoning': 0}})]\n",
            "\n",
            "\n",
            "\n",
            "Receiving update from node: 'action'\n",
            "[ToolMessage(content='[{\"title\": \"Reflecting on Adam Lowry\\'s First Season as Jets Captain\", \"url\": \"https://thehockeywriters.com/reflectin-adam-lowrys-first-season-jets-captain/\", \"content\": \"Prior to the start of the 2023-24 season, Adam Lowry was named the new captain of the Winnipeg Jets. Responses were a bit mixed.\", \"score\": 0.9075175}, {\"title\": \"Adam Lowry Stats And News | NHL.com\", \"url\": \"https://www.nhl.com/jets/player/adam-lowry-8476392\", \"content\": \"Adam Lowry was named captain of the Winnipeg Jets on Sept. 12, 2023, and at age 30 was planning to rely on his father, Dave Lowry.\", \"score\": 0.8947989}, {\"title\": \"Adam Lowry - Wikipedia\", \"url\": \"https://en.wikipedia.org/wiki/Adam_Lowry\", \"content\": \"| Awards and achievements | | |\\\\n| --- | --- | --- |\\\\n| Preceded by Stefan Elliott | Winner of the Daryl K. (Doc) Seaman Trophy_Seaman_Trophy \\\\\"Daryl K. (Doc) Seaman Trophy\\\\\")  2010 | Succeeded by Colin Smith \\\\\"Colin Smith (ice hockey)\\\\\") |\\\\n| Sporting positions | | |\\\\n| Preceded by Blake Wheeler | Winnipeg Jets captain  2023–present | Incumbent | [...] Entering the 2023–24 season, Lowry was named captain of the Jets on September 12, 2023. He became the third in the team\\'s history since relocating to Winnipeg, and the tenth overall in franchise history.\\\\n\\\\nOn May 4, 2025, Lowry scored at 16:10 in double overtime to win 4-3 against the St. Louis Blues in Game 7 of the Jets-Blues first round playoff series.\\\\n\\\\n## Personal life [...] Adam Lowry (born March 29, 1993) is an American-born Canadian professional ice hockey centre \\\\\"Center (ice hockey)\\\\\") and  captain \\\\\"Captain (ice hockey)\\\\\") of the Winnipeg Jets of the National Hockey League (NHL).\\\\n\\\\n## Early life\", \"score\": 0.8896154}, {\"title\": \"Adam Lowry named Jets captain | Winnipeg Jets - NHL.com\", \"url\": \"https://www.nhl.com/jets/news/adam-lowry-named-jets-captain\", \"content\": \"The 30-year-old wore an â\\x80\\x9cAâ\\x80\\x9d for the first time in 2022-23 along with Josh Morrissey and Mark Scheifele who will both serve as alternates for the team this year. The Jets didnâ\\x80\\x99t have a captain last season as head coach Rick Bowness and his staff wanted more voices in the dressing room.\\\\n\\\\nâ\\x80\\x9cIt went well last year. Mark, Adam and Josh did a great job in the room which is what we wanted. We all know Adam is the first guy on the ice to stick up for his teammates,â\\x80\\x9d said Bowness. [...] â\\x80\\x9cHeâ\\x80\\x99s a true professional, he has total respect from every player on the team, every player around the league and certainly from the coaching staff as well. We just feel at this point itâ\\x80\\x99s the right time to name Adam as our captain.â\\x80\\x9d [...] â\\x80\\x9cGetting to be a captain of a Canadian NHL team is pretty special and something Iâ\\x80\\x99m really looking forward too.â\\x80\\x9d\", \"score\": 0.85509074}, {\"title\": \"Jets name Adam Lowry as captain ahead of 2023-24 season\", \"url\": \"https://www.nytimes.com/athletic/4855976/2023/09/12/adam-lowry-jets-captain/\", \"content\": \"The team gave forward Adam Lowry the honor Tuesday, making him the third captain in franchise history since the Jets moved from Atlanta.\", \"score\": 0.85421735}]', name='tavily_search_results_json', id='ed2a9df1-796d-4651-b31a-75ac9ecae93e', tool_call_id='call_U1SxiK78cDDP6uC18g8SlITV', artifact={'query': 'current captain of the Winnipeg Jets 2023', 'follow_up_questions': None, 'answer': None, 'images': [], 'results': [{'url': 'https://thehockeywriters.com/reflectin-adam-lowrys-first-season-jets-captain/', 'title': \"Reflecting on Adam Lowry's First Season as Jets Captain\", 'content': 'Prior to the start of the 2023-24 season, Adam Lowry was named the new captain of the Winnipeg Jets. Responses were a bit mixed.', 'score': 0.9075175, 'raw_content': None}, {'url': 'https://www.nhl.com/jets/player/adam-lowry-8476392', 'title': 'Adam Lowry Stats And News | NHL.com', 'content': 'Adam Lowry was named captain of the Winnipeg Jets on Sept. 12, 2023, and at age 30 was planning to rely on his father, Dave Lowry.', 'score': 0.8947989, 'raw_content': None}, {'url': 'https://en.wikipedia.org/wiki/Adam_Lowry', 'title': 'Adam Lowry - Wikipedia', 'content': '| Awards and achievements | | |\\n| --- | --- | --- |\\n| Preceded by Stefan Elliott | Winner of the Daryl K. (Doc) Seaman Trophy_Seaman_Trophy \"Daryl K. (Doc) Seaman Trophy\")  2010 | Succeeded by Colin Smith \"Colin Smith (ice hockey)\") |\\n| Sporting positions | | |\\n| Preceded by Blake Wheeler | Winnipeg Jets captain  2023–present | Incumbent | [...] Entering the 2023–24 season, Lowry was named captain of the Jets on September 12, 2023. He became the third in the team\\'s history since relocating to Winnipeg, and the tenth overall in franchise history.\\n\\nOn May 4, 2025, Lowry scored at 16:10 in double overtime to win 4-3 against the St. Louis Blues in Game 7 of the Jets-Blues first round playoff series.\\n\\n## Personal life [...] Adam Lowry (born March 29, 1993) is an American-born Canadian professional ice hockey centre \"Center (ice hockey)\") and  captain \"Captain (ice hockey)\") of the Winnipeg Jets of the National Hockey League (NHL).\\n\\n## Early life', 'score': 0.8896154, 'raw_content': None}, {'url': 'https://www.nhl.com/jets/news/adam-lowry-named-jets-captain', 'title': 'Adam Lowry named Jets captain | Winnipeg Jets - NHL.com', 'content': 'The 30-year-old wore an â\\x80\\x9cAâ\\x80\\x9d for the first time in 2022-23 along with Josh Morrissey and Mark Scheifele who will both serve as alternates for the team this year. The Jets didnâ\\x80\\x99t have a captain last season as head coach Rick Bowness and his staff wanted more voices in the dressing room.\\n\\nâ\\x80\\x9cIt went well last year. Mark, Adam and Josh did a great job in the room which is what we wanted. We all know Adam is the first guy on the ice to stick up for his teammates,â\\x80\\x9d said Bowness. [...] â\\x80\\x9cHeâ\\x80\\x99s a true professional, he has total respect from every player on the team, every player around the league and certainly from the coaching staff as well. We just feel at this point itâ\\x80\\x99s the right time to name Adam as our captain.â\\x80\\x9d [...] â\\x80\\x9cGetting to be a captain of a Canadian NHL team is pretty special and something Iâ\\x80\\x99m really looking forward too.â\\x80\\x9d', 'score': 0.85509074, 'raw_content': None}, {'url': 'https://www.nytimes.com/athletic/4855976/2023/09/12/adam-lowry-jets-captain/', 'title': 'Jets name Adam Lowry as captain ahead of 2023-24 season', 'content': 'The team gave forward Adam Lowry the honor Tuesday, making him the third captain in franchise history since the Jets moved from Atlanta.', 'score': 0.85421735, 'raw_content': None}], 'response_time': 6.35})]\n",
            "\n",
            "\n",
            "\n",
            "Receiving update from node: 'agent'\n",
            "[AIMessage(content='The current captain of the Winnipeg Jets is Adam Lowry. He was named captain on September 12, 2023.', additional_kwargs={'refusal': None}, response_metadata={'token_usage': {'completion_tokens': 26, 'prompt_tokens': 1068, 'total_tokens': 1094, 'completion_tokens_details': {'accepted_prediction_tokens': 0, 'audio_tokens': 0, 'reasoning_tokens': 0, 'rejected_prediction_tokens': 0}, 'prompt_tokens_details': {'audio_tokens': 0, 'cached_tokens': 0}}, 'model_name': 'gpt-4o-2024-08-06', 'system_fingerprint': 'fp_07871e2ad8', 'id': 'chatcmpl-BqmuGl1ArL37cBYrfqaA8np16WwYD', 'service_tier': 'default', 'finish_reason': 'stop', 'logprobs': None}, id='run--a0f0cc05-9fd5-4777-8f60-46e689765a68-0', usage_metadata={'input_tokens': 1068, 'output_tokens': 26, 'total_tokens': 1094, 'input_token_details': {'audio': 0, 'cache_read': 0}, 'output_token_details': {'audio': 0, 'reasoning': 0}})]\n",
            "\n",
            "\n",
            "\n"
          ]
        }
      ],
      "source": [
        "from langchain_core.messages import HumanMessage\n",
        "\n",
        "inputs = {\"messages\" : [HumanMessage(content=\"Who is the current captain of the Winnipeg Jets?\")]}\n",
        "\n",
        "async for chunk in simple_agent_graph.astream(inputs, stream_mode=\"updates\"):\n",
        "    for node, values in chunk.items():\n",
        "        print(f\"Receiving update from node: '{node}'\")\n",
        "        print(values[\"messages\"])\n",
        "        print(\"\\n\\n\")"
      ]
    },
    {
      "cell_type": "markdown",
      "metadata": {
        "id": "DBHnUtLSscRr"
      },
      "source": [
        "Let's look at what happened:\n",
        "\n",
        "1. Our state object was populated with our request\n",
        "2. The state object was passed into our entry point (agent node) and the agent node added an `AIMessage` to the state object and passed it along the conditional edge\n",
        "3. The conditional edge received the state object, found the \"tool_calls\" `additional_kwarg`, and sent the state object to the action node\n",
        "4. The action node added the response from the OpenAI function calling endpoint to the state object and passed it along the edge to the agent node\n",
        "5. The agent node added a response to the state object and passed it along the conditional edge\n",
        "6. The conditional edge received the state object, could not find the \"tool_calls\" `additional_kwarg` and passed the state object to END where we see it output in the cell above!\n",
        "\n",
        "Now let's look at an example that shows a multiple tool usage - all with the same flow!"
      ]
    },
    {
      "cell_type": "code",
      "execution_count": 17,
      "metadata": {
        "colab": {
          "base_uri": "https://localhost:8080/"
        },
        "id": "afv2BuEsV5JG",
        "outputId": "ff009536-d281-4a56-c126-9cd245352bfe"
      },
      "outputs": [
        {
          "name": "stdout",
          "output_type": "stream",
          "text": [
            "Receiving update from node: 'agent'\n",
            "[AIMessage(content='', additional_kwargs={'tool_calls': [{'id': 'call_MTX1evk8edVUXu11C8p63iwp', 'function': {'arguments': '{\"query\":\"QLoRA\"}', 'name': 'arxiv'}, 'type': 'function'}], 'refusal': None}, response_metadata={'token_usage': {'completion_tokens': 16, 'prompt_tokens': 178, 'total_tokens': 194, 'completion_tokens_details': {'accepted_prediction_tokens': 0, 'audio_tokens': 0, 'reasoning_tokens': 0, 'rejected_prediction_tokens': 0}, 'prompt_tokens_details': {'audio_tokens': 0, 'cached_tokens': 0}}, 'model_name': 'gpt-4o-2024-08-06', 'system_fingerprint': 'fp_07871e2ad8', 'id': 'chatcmpl-BqmuHrWhtZX1N4v0ZugU5XT8RkoUe', 'service_tier': 'default', 'finish_reason': 'tool_calls', 'logprobs': None}, id='run--cae0c532-8a47-41a7-855a-1c01a70f2a15-0', tool_calls=[{'name': 'arxiv', 'args': {'query': 'QLoRA'}, 'id': 'call_MTX1evk8edVUXu11C8p63iwp', 'type': 'tool_call'}], usage_metadata={'input_tokens': 178, 'output_tokens': 16, 'total_tokens': 194, 'input_token_details': {'audio': 0, 'cache_read': 0}, 'output_token_details': {'audio': 0, 'reasoning': 0}})]\n",
            "\n",
            "\n",
            "\n",
            "Receiving update from node: 'action'\n",
            "Tool Used: arxiv\n",
            "[ToolMessage(content='Published: 2023-05-23\\nTitle: QLoRA: Efficient Finetuning of Quantized LLMs\\nAuthors: Tim Dettmers, Artidoro Pagnoni, Ari Holtzman, Luke Zettlemoyer\\nSummary: We present QLoRA, an efficient finetuning approach that reduces memory usage\\nenough to finetune a 65B parameter model on a single 48GB GPU while preserving\\nfull 16-bit finetuning task performance. QLoRA backpropagates gradients through\\na frozen, 4-bit quantized pretrained language model into Low Rank\\nAdapters~(LoRA). Our best model family, which we name Guanaco, outperforms all\\nprevious openly released models on the Vicuna benchmark, reaching 99.3% of the\\nperformance level of ChatGPT while only requiring 24 hours of finetuning on a\\nsingle GPU. QLoRA introduces a number of innovations to save memory without\\nsacrificing performance: (a) 4-bit NormalFloat (NF4), a new data type that is\\ninformation theoretically optimal for normally distributed weights (b) double\\nquantization to reduce the average memory footprint by quantizing the\\nquantization constants, and (c) paged optimziers to manage memory spikes. We\\nuse QLoRA to finetune more than 1,000 models, providing a detailed analysis of\\ninstruction following and chatbot performance across 8 instruction datasets,\\nmultiple model types (LLaMA, T5), and model scales that would be infeasible to\\nrun with regular finetuning (e.g. 33B and 65B parameter models). Our results\\nshow that QLoRA finetuning on a small high-quality dataset leads to\\nstate-of-the-art results, even when using smaller models than the previous\\nSoTA. We provide a detailed analysis of chatbot performance based on both human\\nand GPT-4 evaluations showing that GPT-4 evaluations are a cheap and reasonable\\nalternative to human evaluation. Furthermore, we find that current chatbot\\nbenchmarks are not trustworthy to accurately evaluate the performance levels of\\nchatbots. A lemon-picked analysis demonstrates where Guanaco fails compared to\\nChatGPT. We release all of our models and code, including CUDA kernels for\\n4-bit training.\\n\\nPublished: 2024-05-27\\nTitle: Accurate LoRA-Finetuning Quantization of LLMs via Information Retention\\nAuthors: Haotong Qin, Xudong Ma, Xingyu Zheng, Xiaoyang Li, Yang Zhang, Shouda Liu, Jie Luo, Xianglong Liu, Michele Magno\\nSummary: The LoRA-finetuning quantization of LLMs has been extensively studied to\\nobtain accurate yet compact LLMs for deployment on resource-constrained\\nhardware. However, existing methods cause the quantized LLM to severely degrade\\nand even fail to benefit from the finetuning of LoRA. This paper proposes a\\nnovel IR-QLoRA for pushing quantized LLMs with LoRA to be highly accurate\\nthrough information retention. The proposed IR-QLoRA mainly relies on two\\ntechnologies derived from the perspective of unified information: (1)\\nstatistics-based Information Calibration Quantization allows the quantized\\nparameters of LLM to retain original information accurately; (2)\\nfinetuning-based Information Elastic Connection makes LoRA utilizes elastic\\nrepresentation transformation with diverse information. Comprehensive\\nexperiments show that IR-QLoRA can significantly improve accuracy across LLaMA\\nand LLaMA2 families under 2-4 bit-widths, e.g., 4- bit LLaMA-7B achieves 1.4%\\nimprovement on MMLU compared with the state-of-the-art methods. The significant\\nperformance gain requires only a tiny 0.31% additional time consumption,\\nrevealing the satisfactory efficiency of our IR-QLoRA. We highlight that\\nIR-QLoRA enjoys excellent versatility, compatible with various frameworks\\n(e.g., NormalFloat and Integer quantization) and brings general accuracy gains.\\nThe code is available at https://github.com/htqin/ir-qlora.\\n\\nPublished: 2025-02-05\\nTitle: Resource-Efficient & Effective Code Summarization\\nAuthors: Saima Afrin, Joseph Call, Khai-Nguyen Nguyen, Oscar Chaparro, Antonio Mastropaolo\\nSummary: Code Language Models (CLMs) have demonstrated high effectiveness in\\nautomating software engineering tasks such as bug fixing, code generation, and\\ncode documentation. This ', name='arxiv', id='acc3fafd-aa2e-4091-8a2a-3162b7cf87b4', tool_call_id='call_MTX1evk8edVUXu11C8p63iwp')]\n",
            "\n",
            "\n",
            "\n",
            "Receiving update from node: 'agent'\n",
            "[AIMessage(content='', additional_kwargs={'tool_calls': [{'id': 'call_GgytQYxwW22Cg3Qz3Siu5RzZ', 'function': {'arguments': '{\"query\": \"Tim Dettmers latest tweet\"}', 'name': 'tavily_search_results_json'}, 'type': 'function'}, {'id': 'call_zrpP2J3979L1o1F6XH90zdT7', 'function': {'arguments': '{\"query\": \"Artidoro Pagnoni latest tweet\"}', 'name': 'tavily_search_results_json'}, 'type': 'function'}, {'id': 'call_zPHPhs17jLS2pgFnRXX1ChwT', 'function': {'arguments': '{\"query\": \"Ari Holtzman latest tweet\"}', 'name': 'tavily_search_results_json'}, 'type': 'function'}, {'id': 'call_caiQko7qHB15m4fRtiEuUWog', 'function': {'arguments': '{\"query\": \"Luke Zettlemoyer latest tweet\"}', 'name': 'tavily_search_results_json'}, 'type': 'function'}], 'refusal': None}, response_metadata={'token_usage': {'completion_tokens': 112, 'prompt_tokens': 1148, 'total_tokens': 1260, 'completion_tokens_details': {'accepted_prediction_tokens': 0, 'audio_tokens': 0, 'reasoning_tokens': 0, 'rejected_prediction_tokens': 0}, 'prompt_tokens_details': {'audio_tokens': 0, 'cached_tokens': 0}}, 'model_name': 'gpt-4o-2024-08-06', 'system_fingerprint': 'fp_07871e2ad8', 'id': 'chatcmpl-BqmuNxxKpHT8zcLYTDfhuv3TU0VAT', 'service_tier': 'default', 'finish_reason': 'tool_calls', 'logprobs': None}, id='run--de52ce07-a565-4d73-a7c3-628517e609ee-0', tool_calls=[{'name': 'tavily_search_results_json', 'args': {'query': 'Tim Dettmers latest tweet'}, 'id': 'call_GgytQYxwW22Cg3Qz3Siu5RzZ', 'type': 'tool_call'}, {'name': 'tavily_search_results_json', 'args': {'query': 'Artidoro Pagnoni latest tweet'}, 'id': 'call_zrpP2J3979L1o1F6XH90zdT7', 'type': 'tool_call'}, {'name': 'tavily_search_results_json', 'args': {'query': 'Ari Holtzman latest tweet'}, 'id': 'call_zPHPhs17jLS2pgFnRXX1ChwT', 'type': 'tool_call'}, {'name': 'tavily_search_results_json', 'args': {'query': 'Luke Zettlemoyer latest tweet'}, 'id': 'call_caiQko7qHB15m4fRtiEuUWog', 'type': 'tool_call'}], usage_metadata={'input_tokens': 1148, 'output_tokens': 112, 'total_tokens': 1260, 'input_token_details': {'audio': 0, 'cache_read': 0}, 'output_token_details': {'audio': 0, 'reasoning': 0}})]\n",
            "\n",
            "\n",
            "\n",
            "Receiving update from node: 'action'\n",
            "Tool Used: tavily_search_results_json\n",
            "[ToolMessage(content='[{\"title\": \"Tim Dettmers - Thread Reader App\", \"url\": \"https://threadreaderapp.com/user/Tim_Dettmers\", \"content\": \"Oct 8, 2021 • 13 tweets • 5 min read. I am excited to share my latest work: 8-bit optimizers – a replacement for regular optimizers. Faster , 75% less\", \"score\": 0.7407191}, {\"title\": \"Posts with replies by Tim Dettmers (@Tim_Dettmers) / X\", \"url\": \"https://twitter.com/Tim_Dettmers/with_replies\", \"content\": \"After 7 months on the job market, I am happy to announce: - I joined @allen_ai - Professor at @CarnegieMellon from Fall 2025 - New bitsandbytes maintainer\", \"score\": 0.6708892}, {\"title\": \"Posts with replies by Tim Dettmers (@Tim_Dettmers) / X\", \"url\": \"https://x.com/Tim_Dettmers/with_replies\", \"content\": \"After 7 months on the job market, I am happy to announce: - I joined @allen_ai - Professor at @CarnegieMellon from Fall 2025 - New bitsandbytes maintainer\", \"score\": 0.6708892}, {\"title\": \"Tim Dettmers — Making deep learning accessible.\", \"url\": \"https://timdettmers.com/\", \"content\": \"Filed Under: Academia, PhD Life Tagged With: Advisors, Grad school, PhD\\\\n\\\\n## TPUs vs GPUs for Transformers (BERT)\\\\n\\\\n2018-10-17 by Tim Dettmers 26 Comments [...] Filed Under: Deep Learning, Hardware Tagged With: AMD, CPU, High Performance Computing, Matrix Multiplication, Parallel Computing, PCIe Lanes, Sparse Training\\\\n\\\\n## LLM.int8() and Emergent Features\\\\n\\\\n2022-08-17 by Tim Dettmers 13 Comments [...] From that, I learned that quantization research is like printers. Nobody cares about printers. Nobody likes printers. But everybody is happy if printers do their job.\\\\n\\\\nFiled Under: Deep Learning Tagged With: emergent features, LLM.int8()\\\\n\\\\n## How to Choose Your Grad School\\\\n\\\\n2022-03-13 by Tim Dettmers 18 Comments\", \"score\": 0.6554468}, {\"title\": \"Tim Dettmers on X: \\\\\"Looking forward to give this talk at the YPS at ...\", \"url\": \"https://twitter.com/Tim_Dettmers/status/1920802268892270844\", \"content\": \"Tim Dettmers · @Tim_Dettmers. Looking forward to give this talk at the YPS at MLSys. This talk will be for PhD students and would be PhD\", \"score\": 0.62687886}]', name='tavily_search_results_json', id='64bf2356-f1e8-4a08-a968-3ab2eae53a4e', tool_call_id='call_GgytQYxwW22Cg3Qz3Siu5RzZ', artifact={'query': 'Tim Dettmers latest tweet', 'follow_up_questions': None, 'answer': None, 'images': [], 'results': [{'url': 'https://threadreaderapp.com/user/Tim_Dettmers', 'title': 'Tim Dettmers - Thread Reader App', 'content': 'Oct 8, 2021 • 13 tweets • 5 min read. I am excited to share my latest work: 8-bit optimizers – a replacement for regular optimizers. Faster , 75% less', 'score': 0.7407191, 'raw_content': None}, {'url': 'https://twitter.com/Tim_Dettmers/with_replies', 'title': 'Posts with replies by Tim Dettmers (@Tim_Dettmers) / X', 'content': 'After 7 months on the job market, I am happy to announce: - I joined @allen_ai - Professor at @CarnegieMellon from Fall 2025 - New bitsandbytes maintainer', 'score': 0.6708892, 'raw_content': None}, {'url': 'https://x.com/Tim_Dettmers/with_replies', 'title': 'Posts with replies by Tim Dettmers (@Tim_Dettmers) / X', 'content': 'After 7 months on the job market, I am happy to announce: - I joined @allen_ai - Professor at @CarnegieMellon from Fall 2025 - New bitsandbytes maintainer', 'score': 0.6708892, 'raw_content': None}, {'url': 'https://timdettmers.com/', 'title': 'Tim Dettmers — Making deep learning accessible.', 'content': 'Filed Under: Academia, PhD Life Tagged With: Advisors, Grad school, PhD\\n\\n## TPUs vs GPUs for Transformers (BERT)\\n\\n2018-10-17 by Tim Dettmers 26 Comments [...] Filed Under: Deep Learning, Hardware Tagged With: AMD, CPU, High Performance Computing, Matrix Multiplication, Parallel Computing, PCIe Lanes, Sparse Training\\n\\n## LLM.int8() and Emergent Features\\n\\n2022-08-17 by Tim Dettmers 13 Comments [...] From that, I learned that quantization research is like printers. Nobody cares about printers. Nobody likes printers. But everybody is happy if printers do their job.\\n\\nFiled Under: Deep Learning Tagged With: emergent features, LLM.int8()\\n\\n## How to Choose Your Grad School\\n\\n2022-03-13 by Tim Dettmers 18 Comments', 'score': 0.6554468, 'raw_content': None}, {'url': 'https://twitter.com/Tim_Dettmers/status/1920802268892270844', 'title': 'Tim Dettmers on X: \"Looking forward to give this talk at the YPS at ...', 'content': 'Tim Dettmers · @Tim_Dettmers. Looking forward to give this talk at the YPS at MLSys. This talk will be for PhD students and would be PhD', 'score': 0.62687886, 'raw_content': None}], 'response_time': 4.99}), ToolMessage(content='[{\"title\": \"Artidoro Pagnoni on X: \\\\\"@ethayarajh Totally agree. Models should ...\", \"url\": \"https://twitter.com/ArtidoroPagnoni/status/1894919172527911286\", \"content\": \"Conversation. Artidoro Pagnoni · @ArtidoroPagnoni. Totally agree. Models should allocates FLOPs based on entropy anyways. 1:15 AM · Feb 27, 2025.\", \"score\": 0.77731717}, {\"title\": \"Artidoro Pagnoni on X: \\\\\"@erazumovskaia @vidhisha_b @tsvetshop ...\", \"url\": \"https://mobile.twitter.com/ArtidoroPagnoni/status/1402011776317890560\", \"content\": \"Artidoro Pagnoni · @ArtidoroPagnoni. It\\'s Wednesday at session 13D-Oral: Summarization (10:20–11:40 PDT). Hope to see you there! 9:17 PM · Jun 7, 2021.\", \"score\": 0.7574541}, {\"title\": \"Artidoro Pagnoni: Ciao!\", \"url\": \"https://artidoro.github.io/\", \"content\": \"Artidoro Pagnoni\\\\n\\\\n### Artidoro Pagnoni\\\\n\\\\nPhD student in NLP at the University of Washington\\\\n\\\\n# Ciao!\\\\n\\\\nI am a final-year PhD student in Computer Science at the University of Washington, advised by Luke Zettlemoyer, and a visiting researcher at Meta. My research focuses on resource efficiency and improving LLM scaling trends. [...] I have recently developed the Byte Latent Transformer, a new architecture that efficiently learns from raw byte data unlocking a new scaling dimension and paving the path towards universal byte models. With QLoRA, I reduced finetuning memory requirements by 15x and showed how to approach ChatGPT 3.5 performance in 24h on a single GPU. [...] Previously, I have also worked on sythetic data augmentation for improved controllability of generation systems, investigated language models’ reasoning and world modeling abilities, and evaluated their factual errors, as well as societal challenge associated with their use.\", \"score\": 0.6493346}, {\"title\": \"Highlights by Artidoro Pagnoni (@ArtidoroPagnoni) / X\", \"url\": \"https://twitter.com/ArtidoroPagnoni/highlights\", \"content\": \"Artidoro Pagnoni\\'s Highlights ... Introducing the Byte Latent Transformer (BLT) – An LLM architecture that scales better than Llama 3 using byte-patches instead\", \"score\": 0.64719695}, {\"title\": \"Artidoro Pagnoni (@ArtidoroPagnoni) / X\", \"url\": \"https://twitter.com/ArtidoroPagnoni\", \"content\": \"on my way back to NYC, i met wise Leon Bottou in the airport. we talked. then i told him \\\\\"you should tweet that!\\\\\" and, he delivered much more than a tweet: a\", \"score\": 0.6466616}]', name='tavily_search_results_json', id='6c1af12e-df28-4348-94f6-d15cffad243b', tool_call_id='call_zrpP2J3979L1o1F6XH90zdT7', artifact={'query': 'Artidoro Pagnoni latest tweet', 'follow_up_questions': None, 'answer': None, 'images': [], 'results': [{'url': 'https://twitter.com/ArtidoroPagnoni/status/1894919172527911286', 'title': 'Artidoro Pagnoni on X: \"@ethayarajh Totally agree. Models should ...', 'content': 'Conversation. Artidoro Pagnoni · @ArtidoroPagnoni. Totally agree. Models should allocates FLOPs based on entropy anyways. 1:15 AM · Feb 27, 2025.', 'score': 0.77731717, 'raw_content': None}, {'url': 'https://mobile.twitter.com/ArtidoroPagnoni/status/1402011776317890560', 'title': 'Artidoro Pagnoni on X: \"@erazumovskaia @vidhisha_b @tsvetshop ...', 'content': \"Artidoro Pagnoni · @ArtidoroPagnoni. It's Wednesday at session 13D-Oral: Summarization (10:20–11:40 PDT). Hope to see you there! 9:17 PM · Jun 7, 2021.\", 'score': 0.7574541, 'raw_content': None}, {'url': 'https://artidoro.github.io/', 'title': 'Artidoro Pagnoni: Ciao!', 'content': 'Artidoro Pagnoni\\n\\n### Artidoro Pagnoni\\n\\nPhD student in NLP at the University of Washington\\n\\n# Ciao!\\n\\nI am a final-year PhD student in Computer Science at the University of Washington, advised by Luke Zettlemoyer, and a visiting researcher at Meta. My research focuses on resource efficiency and improving LLM scaling trends. [...] I have recently developed the Byte Latent Transformer, a new architecture that efficiently learns from raw byte data unlocking a new scaling dimension and paving the path towards universal byte models. With QLoRA, I reduced finetuning memory requirements by 15x and showed how to approach ChatGPT 3.5 performance in 24h on a single GPU. [...] Previously, I have also worked on sythetic data augmentation for improved controllability of generation systems, investigated language models’ reasoning and world modeling abilities, and evaluated their factual errors, as well as societal challenge associated with their use.', 'score': 0.6493346, 'raw_content': None}, {'url': 'https://twitter.com/ArtidoroPagnoni/highlights', 'title': 'Highlights by Artidoro Pagnoni (@ArtidoroPagnoni) / X', 'content': \"Artidoro Pagnoni's Highlights ... Introducing the Byte Latent Transformer (BLT) – An LLM architecture that scales better than Llama 3 using byte-patches instead\", 'score': 0.64719695, 'raw_content': None}, {'url': 'https://twitter.com/ArtidoroPagnoni', 'title': 'Artidoro Pagnoni (@ArtidoroPagnoni) / X', 'content': 'on my way back to NYC, i met wise Leon Bottou in the airport. we talked. then i told him \"you should tweet that!\" and, he delivered much more than a tweet: a', 'score': 0.6466616, 'raw_content': None}], 'response_time': 5.78}), ToolMessage(content='[{\"title\": \"Ari Holtzman on X: \\\\\"I\\'m more interested in what you can do with an ...\", \"url\": \"https://x.com/universeinanegg/status/1939129145335648675\", \"content\": \"Ari Holtzman · @universeinanegg. I\\'m more interested in what you can do with an LLM than what an LLM can do. 1:09 AM · Jun 29, 2025.\", \"score\": 0.75181264}, {\"title\": \"Ari Holtzman on X: \\\\\"the qualitative display of games people play ...\", \"url\": \"https://twitter.com/universeinanegg/status/1787569412209525086\", \"content\": \"Ari Holtzman · @universeinanegg. the qualitative display of games people play. Image. 7:45 PM · May 6, 2024. ·. 2,866. Views.\", \"score\": 0.72207695}, {\"title\": \"Ari Holtzman on X\", \"url\": \"https://x.com/universeinanegg/status/1940870009154425084\", \"content\": \"Ari Holtzman · @universeinanegg. Seriously proud of Aryan for leading this project! Helped me ... 8:27 PM · Jul 3, 2025. ·. 1,310. Views. 1.\", \"score\": 0.71185225}, {\"title\": \"Ari Holtzman - X\", \"url\": \"https://x.com/universeinanegg/status/1677837398321897473\", \"content\": \"In other news, I\\'ll be joining @UChicagoCS and @DSI_UChicago in 2024 as an assistant professor and doing a postdoc @Meta in the meantime!\", \"score\": 0.68318754}, {\"title\": \"Ari Holtzman on X: \\\\\"can\\'t wait for there to be audio AI agents that are ...\", \"url\": \"https://twitter.com/universeinanegg/status/1802168903185154096\", \"content\": \"Ari Holtzman · @universeinanegg. can\\'t wait for there to be audio AI agents that are good/cheap enough that I can run lines with them and\", \"score\": 0.6002124}]', name='tavily_search_results_json', id='8700c112-ca89-4680-b0f3-4cee9ef2d7d4', tool_call_id='call_zPHPhs17jLS2pgFnRXX1ChwT', artifact={'query': 'Ari Holtzman latest tweet', 'follow_up_questions': None, 'answer': None, 'images': [], 'results': [{'url': 'https://x.com/universeinanegg/status/1939129145335648675', 'title': 'Ari Holtzman on X: \"I\\'m more interested in what you can do with an ...', 'content': \"Ari Holtzman · @universeinanegg. I'm more interested in what you can do with an LLM than what an LLM can do. 1:09 AM · Jun 29, 2025.\", 'score': 0.75181264, 'raw_content': None}, {'url': 'https://twitter.com/universeinanegg/status/1787569412209525086', 'title': 'Ari Holtzman on X: \"the qualitative display of games people play ...', 'content': 'Ari Holtzman · @universeinanegg. the qualitative display of games people play. Image. 7:45 PM · May 6, 2024. ·. 2,866. Views.', 'score': 0.72207695, 'raw_content': None}, {'url': 'https://x.com/universeinanegg/status/1940870009154425084', 'title': 'Ari Holtzman on X', 'content': 'Ari Holtzman · @universeinanegg. Seriously proud of Aryan for leading this project! Helped me ... 8:27 PM · Jul 3, 2025. ·. 1,310. Views. 1.', 'score': 0.71185225, 'raw_content': None}, {'url': 'https://x.com/universeinanegg/status/1677837398321897473', 'title': 'Ari Holtzman - X', 'content': \"In other news, I'll be joining @UChicagoCS and @DSI_UChicago in 2024 as an assistant professor and doing a postdoc @Meta in the meantime!\", 'score': 0.68318754, 'raw_content': None}, {'url': 'https://twitter.com/universeinanegg/status/1802168903185154096', 'title': 'Ari Holtzman on X: \"can\\'t wait for there to be audio AI agents that are ...', 'content': \"Ari Holtzman · @universeinanegg. can't wait for there to be audio AI agents that are good/cheap enough that I can run lines with them and\", 'score': 0.6002124, 'raw_content': None}], 'response_time': 8.24}), ToolMessage(content='[{\"title\": \"Giannis Daras on X: \\\\\"Great talk at UT by Luke Zettlemoyer ...\", \"url\": \"https://twitter.com/giannis_daras/status/1781359267045384289\", \"content\": \"Great talk at UT by Luke Zettlemoyer (. @LukeZettlemoyer. ) on training LLMs in a distributed setting. Image. 4:28 PM · Apr 19, 2024.\", \"score\": 0.70336664}, {\"title\": \"Luke Zettlemoyer (@LukeZettlemoyer) / X\", \"url\": \"https://x.com/lukezettlemoyer?lang=en\", \"content\": \"New from Meta FAIR: today we\\'re introducing Seamless Interaction, a research project dedicated to modeling interpersonal dynamics.\", \"score\": 0.7009158}, {\"title\": \"Simons Institute for the Theory of Computing on X: \\\\\"\\\\\"Tokenize ...\", \"url\": \"https://twitter.com/SimonsInstitute/status/1907174359091089727\", \"content\": \"\\\\\"Tokenize Everything!\\\\\" Luke Zettlemoyer of @UW on using GPT-like autoregressive techniques for training multimodal models (text, images,\", \"score\": 0.6504012}, {\"title\": \"ACL 2025 on X: \\\\\"Exciting news! We\\'re thrilled to announce an ...\", \"url\": \"https://twitter.com/aclmeeting/status/1938594464236441808\", \"content\": \"Exciting news! We\\'re thrilled to announce an invited talk at ACL 2025 by Professor Luke Zettlemoyer (University of Washington and Meta)!\", \"score\": 0.6180666}, {\"title\": \"Luke Zettlemoyer - University of Washington\", \"url\": \"https://homes.cs.washington.edu/~lsz/\", \"content\": \"Jun 6, 2025: I gave a talk on mixed-modal LMs at the Frontiers in NeuroAI workshop at the Kempner Institute. Feb 11, 2025: Congratulations to Chunting and Lili and the Tranfusion team for getting an oral at ICLR 2025! Dec 3, 2024: Elected ACL President (2025 VP Elect; 2026 VP; 2027 Pres; 2028 Past Pres) Aug 11, 2024: Congrats to OLMo team for winning a Best Theme Paper Award at ACL 2024! Aug 11, 2024: Congrats to Dolma team for winning a Best Resource Paper Award at ACL 2024! Jan 15, 2024: [...] Congratulations to Xian and team for getting oral at ICLR 2024 for their work on instruction backtranslation! Oct 10, 2023: I was on the twiml podcast, Episode 650 Sep 21, 2023: Congrauations to Tim and Arti for the QLoRA paper getting an oral at NeurIPS 2023! Sep 21, 2023: Congrauations to Timo and team on the Toolformer paper getting an oral at NeurIPS 2023! Jul 24, 2023: I was on The Thesis Review with Sean Welleck Episode 45 Jan 6, 2022: I was named an ACL Fellow! [...] ACL Fellow (2021), as well as winning a PECASE award (2016), an Allen Distinguished Investigator award (2014), and many best paper awards. I was an undergraduate at NC State, recieved my PhD from MIT, and was a postdocal researcher at the University of Edinburgh.\", \"score\": 0.6161283}]', name='tavily_search_results_json', id='4b0a4837-61e9-4f4c-b8ba-ddd47529b22a', tool_call_id='call_caiQko7qHB15m4fRtiEuUWog', artifact={'query': 'Luke Zettlemoyer latest tweet', 'follow_up_questions': None, 'answer': None, 'images': [], 'results': [{'url': 'https://twitter.com/giannis_daras/status/1781359267045384289', 'title': 'Giannis Daras on X: \"Great talk at UT by Luke Zettlemoyer ...', 'content': 'Great talk at UT by Luke Zettlemoyer (. @LukeZettlemoyer. ) on training LLMs in a distributed setting. Image. 4:28 PM · Apr 19, 2024.', 'score': 0.70336664, 'raw_content': None}, {'url': 'https://x.com/lukezettlemoyer?lang=en', 'title': 'Luke Zettlemoyer (@LukeZettlemoyer) / X', 'content': \"New from Meta FAIR: today we're introducing Seamless Interaction, a research project dedicated to modeling interpersonal dynamics.\", 'score': 0.7009158, 'raw_content': None}, {'url': 'https://twitter.com/SimonsInstitute/status/1907174359091089727', 'title': 'Simons Institute for the Theory of Computing on X: \"\"Tokenize ...', 'content': '\"Tokenize Everything!\" Luke Zettlemoyer of @UW on using GPT-like autoregressive techniques for training multimodal models (text, images,', 'score': 0.6504012, 'raw_content': None}, {'url': 'https://twitter.com/aclmeeting/status/1938594464236441808', 'title': 'ACL 2025 on X: \"Exciting news! We\\'re thrilled to announce an ...', 'content': \"Exciting news! We're thrilled to announce an invited talk at ACL 2025 by Professor Luke Zettlemoyer (University of Washington and Meta)!\", 'score': 0.6180666, 'raw_content': None}, {'url': 'https://homes.cs.washington.edu/~lsz/', 'title': 'Luke Zettlemoyer - University of Washington', 'content': 'Jun 6, 2025: I gave a talk on mixed-modal LMs at the Frontiers in NeuroAI workshop at the Kempner Institute. Feb 11, 2025: Congratulations to Chunting and Lili and the Tranfusion team for getting an oral at ICLR 2025! Dec 3, 2024: Elected ACL President (2025 VP Elect; 2026 VP; 2027 Pres; 2028 Past Pres) Aug 11, 2024: Congrats to OLMo team for winning a Best Theme Paper Award at ACL 2024! Aug 11, 2024: Congrats to Dolma team for winning a Best Resource Paper Award at ACL 2024! Jan 15, 2024: [...] Congratulations to Xian and team for getting oral at ICLR 2024 for their work on instruction backtranslation! Oct 10, 2023: I was on the twiml podcast, Episode 650 Sep 21, 2023: Congrauations to Tim and Arti for the QLoRA paper getting an oral at NeurIPS 2023! Sep 21, 2023: Congrauations to Timo and team on the Toolformer paper getting an oral at NeurIPS 2023! Jul 24, 2023: I was on The Thesis Review with Sean Welleck Episode 45 Jan 6, 2022: I was named an ACL Fellow! [...] ACL Fellow (2021), as well as winning a PECASE award (2016), an Allen Distinguished Investigator award (2014), and many best paper awards. I was an undergraduate at NC State, recieved my PhD from MIT, and was a postdocal researcher at the University of Edinburgh.', 'score': 0.6161283, 'raw_content': None}], 'response_time': 4.78})]\n",
            "\n",
            "\n",
            "\n",
            "Receiving update from node: 'agent'\n",
            "[AIMessage(content='Here are the latest tweets or relevant updates from the authors of the QLoRA paper:\\n\\n1. **Tim Dettmers**:\\n   - [Tweet](https://twitter.com/Tim_Dettmers/with_replies): \"After 7 months on the job market, I am happy to announce: - I joined @allen_ai - Professor at @CarnegieMellon from Fall 2025 - New bitsandbytes maintainer\"\\n\\n2. **Artidoro Pagnoni**:\\n   - [Tweet](https://twitter.com/ArtidoroPagnoni/status/1894919172527911286): \"Totally agree. Models should allocate FLOPs based on entropy anyways. 1:15 AM · Feb 27, 2025.\"\\n\\n3. **Ari Holtzman**:\\n   - [Tweet](https://x.com/universeinanegg/status/1939129145335648675): \"I\\'m more interested in what you can do with an LLM than what an LLM can do. 1:09 AM · Jun 29, 2025.\"\\n\\n4. **Luke Zettlemoyer**:\\n   - [Tweet](https://x.com/lukezettlemoyer?lang=en): \"New from Meta FAIR: today we\\'re introducing Seamless Interaction, a research project dedicated to modeling interpersonal dynamics.\"\\n\\nThese tweets provide a glimpse into their recent activities and thoughts.', additional_kwargs={'refusal': None}, response_metadata={'token_usage': {'completion_tokens': 289, 'prompt_tokens': 3883, 'total_tokens': 4172, 'completion_tokens_details': {'accepted_prediction_tokens': 0, 'audio_tokens': 0, 'reasoning_tokens': 0, 'rejected_prediction_tokens': 0}, 'prompt_tokens_details': {'audio_tokens': 0, 'cached_tokens': 0}}, 'model_name': 'gpt-4o-2024-08-06', 'system_fingerprint': 'fp_07871e2ad8', 'id': 'chatcmpl-BqmuX4ozZbqb1uF5UyCQ5PVKKntlQ', 'service_tier': 'default', 'finish_reason': 'stop', 'logprobs': None}, id='run--489ea91f-2228-4429-b55e-f7c46fc04958-0', usage_metadata={'input_tokens': 3883, 'output_tokens': 289, 'total_tokens': 4172, 'input_token_details': {'audio': 0, 'cache_read': 0}, 'output_token_details': {'audio': 0, 'reasoning': 0}})]\n",
            "\n",
            "\n",
            "\n"
          ]
        }
      ],
      "source": [
        "inputs = {\"messages\" : [HumanMessage(content=\"Search Arxiv for the QLoRA paper, then search each of the authors to find out their latest Tweet using Tavily!\")]}\n",
        "\n",
        "async for chunk in simple_agent_graph.astream(inputs, stream_mode=\"updates\"):\n",
        "    for node, values in chunk.items():\n",
        "        print(f\"Receiving update from node: '{node}'\")\n",
        "        if node == \"action\":\n",
        "          print(f\"Tool Used: {values['messages'][0].name}\")\n",
        "        print(values[\"messages\"])\n",
        "\n",
        "        print(\"\\n\\n\")"
      ]
    },
    {
      "cell_type": "markdown",
      "metadata": {
        "id": "CXzDlZVz1Hnf"
      },
      "source": [
        "#### 🏗️ Activity #2:\n",
        "\n",
        "Please write out the steps the agent took to arrive at the correct answer."
      ]
    },
    {
      "cell_type": "markdown",
      "metadata": {},
      "source": [
        "# 🤝 Breakout Room #2"
      ]
    },
    {
      "cell_type": "markdown",
      "metadata": {
        "id": "v7c8-Uyarh1v"
      },
      "source": [
        "## Part 1: LangSmith Evaluator"
      ]
    },
    {
      "cell_type": "markdown",
      "metadata": {
        "id": "pV3XeFOT1Sar"
      },
      "source": [
        "### Pre-processing for LangSmith"
      ]
    },
    {
      "cell_type": "markdown",
      "metadata": {
        "id": "wruQCuzewUuO"
      },
      "source": [
        "To do a little bit more preprocessing, let's wrap our LangGraph agent in a simple chain."
      ]
    },
    {
      "cell_type": "code",
      "execution_count": 19,
      "metadata": {
        "id": "oeXdQgbxwhTv"
      },
      "outputs": [],
      "source": [
        "def convert_inputs(input_object):\n",
        "  return {\"messages\" : [HumanMessage(content=input_object[\"question\"])]}\n",
        "\n",
        "def parse_output(input_state):\n",
        "  return input_state[\"messages\"][-1].content\n",
        "\n",
        "agent_chain_with_formatting = convert_inputs | simple_agent_graph | parse_output"
      ]
    },
    {
      "cell_type": "code",
      "execution_count": 20,
      "metadata": {
        "colab": {
          "base_uri": "https://localhost:8080/",
          "height": 105
        },
        "id": "orYxBZXSxJjZ",
        "outputId": "76be837b-6424-4516-8f63-07fbd8c25bf5"
      },
      "outputs": [
        {
          "data": {
            "text/plain": [
              "\"RAG stands for Retrieval-Augmented Generation. It is a technique used in natural language processing (NLP) that combines retrieval-based methods with generative models to improve the quality and relevance of generated text. Here's how it generally works:\\n\\n1. **Retrieval**: The system first retrieves relevant documents or pieces of information from a large corpus or database. This step is crucial for grounding the generative model in factual and contextually relevant information.\\n\\n2. **Augmentation**: The retrieved information is then used to augment the input to a generative model. This can involve concatenating the retrieved text with the original input or using it to inform the model's understanding of the context.\\n\\n3. **Generation**: Finally, a generative model, such as a transformer-based language model, uses the augmented input to produce a response or generate text. The inclusion of retrieved information helps ensure that the output is more accurate and contextually appropriate.\\n\\nRAG is particularly useful in applications like question answering, where the system needs to provide precise and factually correct answers, and in scenarios where the model needs to generate text that is informed by specific, up-to-date information.\""
            ]
          },
          "execution_count": 20,
          "metadata": {},
          "output_type": "execute_result"
        }
      ],
      "source": [
        "agent_chain_with_formatting.invoke({\"question\" : \"What is RAG?\"})"
      ]
    },
    {
      "cell_type": "markdown",
      "metadata": {
        "id": "f9UkCIqkpyZu"
      },
      "source": [
        "### Task 1: Creating An Evaluation Dataset\n",
        "\n",
        "Just as we saw last week, we'll want to create a dataset to test our Agent's ability to answer questions.\n",
        "\n",
        "In order to do this - we'll want to provide some questions and some answers. Let's look at how we can create such a dataset below.\n",
        "\n",
        "```python\n",
        "questions = [\n",
        "    \"What optimizer is used in QLoRA?\",\n",
        "    \"What data type was created in the QLoRA paper?\",\n",
        "    \"What is a Retrieval Augmented Generation system?\",\n",
        "    \"Who authored the QLoRA paper?\",\n",
        "    \"What is the most popular deep learning framework?\",\n",
        "    \"What significant improvements does the LoRA system make?\"\n",
        "]\n",
        "\n",
        "answers = [\n",
        "    {\"must_mention\" : [\"paged\", \"optimizer\"]},\n",
        "    {\"must_mention\" : [\"NF4\", \"NormalFloat\"]},\n",
        "    {\"must_mention\" : [\"ground\", \"context\"]},\n",
        "    {\"must_mention\" : [\"Tim\", \"Dettmers\"]},\n",
        "    {\"must_mention\" : [\"PyTorch\", \"TensorFlow\"]},\n",
        "    {\"must_mention\" : [\"reduce\", \"parameters\"]},\n",
        "]\n",
        "```"
      ]
    },
    {
      "cell_type": "markdown",
      "metadata": {
        "id": "VfMXF2KAsQxs"
      },
      "source": [
        "#### 🏗️ Activity #3:\n",
        "\n",
        "Please create a dataset in the above format with at least 5 questions."
      ]
    },
    {
      "cell_type": "code",
      "execution_count": 21,
      "metadata": {
        "id": "CbagRuJop83E"
      },
      "outputs": [],
      "source": [
        "questions = [\n",
        "    \"What optimizer is used in QLoRA?\",\n",
        "    \"What data type was created in the QLoRA paper?\",\n",
        "    \"What is a Retrieval Augmented Generation system?\",\n",
        "    \"Who authored the QLoRA paper?\",\n",
        "    \"What is the most popular deep learning framework?\",\n",
        "    \"What significant improvements does the LoRA system make?\"\n",
        "]\n",
        "\n",
        "answers = [\n",
        "    {\"must_mention\" : [\"paged\", \"optimizer\"]},\n",
        "    {\"must_mention\" : [\"NF4\", \"NormalFloat\"]},\n",
        "    {\"must_mention\" : [\"ground\", \"context\"]},\n",
        "    {\"must_mention\" : [\"Tim\", \"Dettmers\"]},\n",
        "    {\"must_mention\" : [\"PyTorch\", \"TensorFlow\"]},\n",
        "    {\"must_mention\" : [\"reduce\", \"parameters\"]},\n",
        "]"
      ]
    },
    {
      "cell_type": "markdown",
      "metadata": {
        "id": "z7QVFuAmsh7L"
      },
      "source": [
        "Now we can add our dataset to our LangSmith project using the following code which we saw last Thursday!"
      ]
    },
    {
      "cell_type": "code",
      "execution_count": 22,
      "metadata": {
        "id": "RLfrZrgSsn85"
      },
      "outputs": [
        {
          "data": {
            "text/plain": [
              "{'example_ids': ['f63e193a-ef3d-45e6-a975-81077fbe4dc4',\n",
              "  '2e9dfae3-792c-4607-9730-726c1c96f599',\n",
              "  'f490dd8e-23f0-4510-9fe3-9246d9d7d6bb',\n",
              "  'c8c8e68d-e905-4bb2-b6ef-993e5ea6787c',\n",
              "  'a6432830-a859-43ef-8a16-a6d561b1e171',\n",
              "  '5c9b5d0f-024e-4517-b7ea-ed02e1ddeb43'],\n",
              " 'count': 6}"
            ]
          },
          "execution_count": 22,
          "metadata": {},
          "output_type": "execute_result"
        }
      ],
      "source": [
        "from langsmith import Client\n",
        "\n",
        "client = Client()\n",
        "\n",
        "dataset_name = f\"Retrieval Augmented Generation - Evaluation Dataset - {uuid4().hex[0:8]}\"\n",
        "\n",
        "dataset = client.create_dataset(\n",
        "    dataset_name=dataset_name,\n",
        "    description=\"Questions about the QLoRA Paper to Evaluate RAG over the same paper.\"\n",
        ")\n",
        "\n",
        "client.create_examples(\n",
        "    inputs=[{\"question\" : q} for q in questions],\n",
        "    outputs=answers,\n",
        "    dataset_id=dataset.id,\n",
        ")"
      ]
    },
    {
      "cell_type": "markdown",
      "metadata": {
        "id": "ciV73F9Q04w0"
      },
      "source": [
        "#### ❓ Question #3:\n",
        "\n",
        "How are the correct answers associated with the questions?\n",
        "\n",
        "> NOTE: Feel free to indicate if this is problematic or not"
      ]
    },
    {
      "cell_type": "markdown",
      "metadata": {
        "id": "-lRTXUrTtP9Y"
      },
      "source": [
        "### Task 2: Adding Evaluators\n",
        "\n",
        "Now we can add a custom evaluator to see if our responses contain the expected information.\n",
        "\n",
        "We'll be using a fairly naive exact-match process to determine if our response contains specific strings."
      ]
    },
    {
      "cell_type": "code",
      "execution_count": 23,
      "metadata": {
        "id": "QrAUXMFftlAY"
      },
      "outputs": [],
      "source": [
        "from langsmith.evaluation import EvaluationResult, run_evaluator\n",
        "\n",
        "@run_evaluator\n",
        "def must_mention(run, example) -> EvaluationResult:\n",
        "    prediction = run.outputs.get(\"output\") or \"\"\n",
        "    required = example.outputs.get(\"must_mention\") or []\n",
        "    score = all(phrase in prediction for phrase in required)\n",
        "    return EvaluationResult(key=\"must_mention\", score=score)"
      ]
    },
    {
      "cell_type": "markdown",
      "metadata": {
        "id": "PNtHORUh0jZY"
      },
      "source": [
        "#### ❓ Question #4:\n",
        "\n",
        "What are some ways you could improve this metric as-is?\n",
        "\n",
        "> NOTE: Alternatively you can suggest where gaps exist in this method."
      ]
    },
    {
      "cell_type": "markdown",
      "metadata": {
        "id": "r1RJr349zhv7"
      },
      "source": [
        "Task 3: Evaluating\n",
        "\n",
        "All that is left to do is evaluate our agent's response!"
      ]
    },
    {
      "cell_type": "code",
      "execution_count": null,
      "metadata": {
        "colab": {
          "base_uri": "https://localhost:8080/",
          "height": 118,
          "referenced_widgets": [
            "efcf57067cf743d8b4ce059a61cbe02e",
            "53e33aae3b97490c82aec7bbb0d6ebba",
            "ad84e0e971d3455db2efe7dd0d1f803e",
            "72adef9b70dd48198b7322b6c5b113cf",
            "8a61d045ffd44ac58f3f13eb10044836",
            "041e22a9b5514e36bd4d1dac01d5d398",
            "886d762f2a7c421382efb5502c6d42a1",
            "ab91fd625bbd43afbf8c6398193a88d0",
            "716557ad09874dcb989d75f7c74424cd",
            "77d4c0ebaae045b58efc4f789c9a2360",
            "0d622ccc56264fac8fd7508dbdbe6e29"
          ]
        },
        "id": "p5TeCUUkuGld",
        "outputId": "2f7d62a2-e78d-447a-d07b-f9e4d500fb79"
      },
      "outputs": [
        {
          "name": "stdout",
          "output_type": "stream",
          "text": [
            "View the evaluation results for experiment: 'RAG Pipeline - Evaluation - cea5-5f13aecb' at:\n",
            "https://smith.langchain.com/o/340cd80b-3296-5752-9a9e-58582118073a/datasets/70758f8b-7194-48e5-a8aa-93665ba381a3/compare?selectedSessions=e1fde5da-ae4d-400b-a4d7-54b51b07eae9\n",
            "\n",
            "\n"
          ]
        },
        {
          "data": {
            "application/vnd.jupyter.widget-view+json": {
              "model_id": "d3112f6d19484ad5b7570f8d2e5eb9d9",
              "version_major": 2,
              "version_minor": 0
            },
            "text/plain": [
              "0it [00:00, ?it/s]"
            ]
          },
          "metadata": {},
          "output_type": "display_data"
        }
      ],
      "source": [
        "experiment_results = client.evaluate(\n",
        "    agent_chain_with_formatting,\n",
        "    data=dataset_name,\n",
        "    evaluators=[must_mention],\n",
        "    experiment_prefix=f\"Search Pipeline - Evaluation - {uuid4().hex[0:4]}\",\n",
        "    metadata={\"version\": \"1.0.0\"},\n",
        ")"
      ]
    },
    {
      "cell_type": "code",
      "execution_count": 25,
      "metadata": {
        "colab": {
          "base_uri": "https://localhost:8080/",
          "height": 342
        },
        "id": "eeEqU7s05Byu",
        "outputId": "78395075-a05d-4ebd-c798-ed968b935318"
      },
      "outputs": [
        {
          "data": {
            "text/html": [
              "<ExperimentResults RAG Pipeline - Evaluation - cea5-5f13aecb>"
            ],
            "text/plain": [
              "<ExperimentResults RAG Pipeline - Evaluation - cea5-5f13aecb>"
            ]
          },
          "execution_count": 25,
          "metadata": {},
          "output_type": "execute_result"
        }
      ],
      "source": [
        "experiment_results"
      ]
    },
    {
      "cell_type": "markdown",
      "metadata": {
        "id": "jhTNe4kWrplB"
      },
      "source": [
        "## Part 2: LangGraph with Helpfulness:"
      ]
    },
    {
      "cell_type": "markdown",
      "metadata": {
        "id": "w1wKRddbIY_S"
      },
      "source": [
        "### Task 3: Adding Helpfulness Check and \"Loop\" Limits\n",
        "\n",
        "Now that we've done evaluation - let's see if we can add an extra step where we review the content we've generated to confirm if it fully answers the user's query!\n",
        "\n",
        "We're going to make a few key adjustments to account for this:\n",
        "\n",
        "1. We're going to add an artificial limit on how many \"loops\" the agent can go through - this will help us to avoid the potential situation where we never exit the loop.\n",
        "2. We'll add to our existing conditional edge to obtain the behaviour we desire."
      ]
    },
    {
      "cell_type": "markdown",
      "metadata": {
        "id": "npTYJ8ayR5B3"
      },
      "source": [
        "First, let's define our state again - we can check the length of the state object, so we don't need additional state for this."
      ]
    },
    {
      "cell_type": "code",
      "execution_count": 26,
      "metadata": {
        "id": "-LQ84YhyJG0w"
      },
      "outputs": [],
      "source": [
        "class AgentState(TypedDict):\n",
        "  messages: Annotated[list, add_messages]"
      ]
    },
    {
      "cell_type": "markdown",
      "metadata": {
        "id": "sD7EV0HqSQcb"
      },
      "source": [
        "Now we can set our graph up! This process will be almost entirely the same - with the inclusion of one additional node/conditional edge!"
      ]
    },
    {
      "cell_type": "markdown",
      "metadata": {
        "id": "oajBwLkFVi1N"
      },
      "source": [
        "#### 🏗️ Activity #5:\n",
        "\n",
        "Please write markdown for the following cells to explain what each is doing."
      ]
    },
    {
      "cell_type": "markdown",
      "metadata": {
        "id": "M6rN7feNVn9f"
      },
      "source": [
        "##### YOUR MARKDOWN HERE"
      ]
    },
    {
      "cell_type": "code",
      "execution_count": 27,
      "metadata": {
        "colab": {
          "base_uri": "https://localhost:8080/"
        },
        "id": "6r6XXA5FJbVf",
        "outputId": "ff713041-e498-4f0f-a875-a03502b87729"
      },
      "outputs": [
        {
          "data": {
            "text/plain": [
              "<langgraph.graph.state.StateGraph at 0x7fec04fd3b10>"
            ]
          },
          "execution_count": 27,
          "metadata": {},
          "output_type": "execute_result"
        }
      ],
      "source": [
        "graph_with_helpfulness_check = StateGraph(AgentState)\n",
        "\n",
        "graph_with_helpfulness_check.add_node(\"agent\", call_model)\n",
        "graph_with_helpfulness_check.add_node(\"action\", tool_node)"
      ]
    },
    {
      "cell_type": "markdown",
      "metadata": {
        "id": "XZ22o2mWVrfp"
      },
      "source": [
        "##### YOUR MARKDOWN HERE"
      ]
    },
    {
      "cell_type": "code",
      "execution_count": 28,
      "metadata": {
        "colab": {
          "base_uri": "https://localhost:8080/"
        },
        "id": "HNWHwWxuRiLY",
        "outputId": "295f5a35-ceff-452a-ffb8-c52eada6a816"
      },
      "outputs": [
        {
          "data": {
            "text/plain": [
              "<langgraph.graph.state.StateGraph at 0x7fec04fd3b10>"
            ]
          },
          "execution_count": 28,
          "metadata": {},
          "output_type": "execute_result"
        }
      ],
      "source": [
        "graph_with_helpfulness_check.set_entry_point(\"agent\")"
      ]
    },
    {
      "cell_type": "markdown",
      "metadata": {
        "id": "rsXeF6xlaXOZ"
      },
      "source": [
        "##### YOUR MARKDOWN HERE"
      ]
    },
    {
      "cell_type": "code",
      "execution_count": null,
      "metadata": {
        "id": "z_Sq3A9SaV1O"
      },
      "outputs": [],
      "source": [
        "from langchain_core.prompts import PromptTemplate\n",
        "from langchain_core.output_parsers import StrOutputParser\n",
        "\n",
        "def tool_call_or_helpful(state):\n",
        "  last_message = state[\"messages\"][-1]\n",
        "\n",
        "  if last_message.tool_calls:\n",
        "    return \"action\"\n",
        "\n",
        "  initial_query = state[\"messages\"][0]\n",
        "  final_response = state[\"messages\"][-1]\n",
        "\n",
        "  if len(state[\"messages\"]) > 10:\n",
        "    return \"END\"\n",
        "\n",
        "  prompt_template = \"\"\"\\\n",
        "  Given an initial query and a final response, determine if the final response is extremely helpful or not. Please indicate helpfulness with a 'Y' and unhelpfulness as an 'N'.\n",
        "\n",
        "  Initial Query:\n",
        "  {initial_query}\n",
        "\n",
        "  Final Response:\n",
        "  {final_response}\"\"\"\n",
        "\n",
        "  helpfullness_prompt_template = PromptTemplate.from_template(prompt_template)\n",
        "\n",
        "  helpfulness_check_model = ChatOpenAI(model=\"gpt-4.1-mini\")\n",
        "\n",
        "  helpfulness_chain = helpfullness_prompt_template | helpfulness_check_model | StrOutputParser()\n",
        "\n",
        "  helpfulness_response = helpfulness_chain.invoke({\"initial_query\" : initial_query.content, \"final_response\" : final_response.content})\n",
        "\n",
        "  if \"Y\" in helpfulness_response:\n",
        "    return \"end\"\n",
        "  else:\n",
        "    return \"continue\""
      ]
    },
    {
      "cell_type": "markdown",
      "metadata": {
        "id": "Fz1u9Vf4SHxJ"
      },
      "source": [
        "#### 🏗️ Activity #4:\n",
        "\n",
        "Please write what is happening in our `tool_call_or_helpful` function!"
      ]
    },
    {
      "cell_type": "markdown",
      "metadata": {
        "id": "6BhnBW2YVsJO"
      },
      "source": [
        "##### YOUR MARKDOWN HERE"
      ]
    },
    {
      "cell_type": "code",
      "execution_count": 30,
      "metadata": {
        "colab": {
          "base_uri": "https://localhost:8080/"
        },
        "id": "aVTKnWMbP_8T",
        "outputId": "7f729b1f-311c-4084-ceaf-0da437900c85"
      },
      "outputs": [
        {
          "data": {
            "text/plain": [
              "<langgraph.graph.state.StateGraph at 0x7fec04fd3b10>"
            ]
          },
          "execution_count": 30,
          "metadata": {},
          "output_type": "execute_result"
        }
      ],
      "source": [
        "graph_with_helpfulness_check.add_conditional_edges(\n",
        "    \"agent\",\n",
        "    tool_call_or_helpful,\n",
        "    {\n",
        "        \"continue\" : \"agent\",\n",
        "        \"action\" : \"action\",\n",
        "        \"end\" : END\n",
        "    }\n",
        ")"
      ]
    },
    {
      "cell_type": "markdown",
      "metadata": {
        "id": "ZGDLEWOIVtK0"
      },
      "source": [
        "##### YOUR MARKDOWN HERE"
      ]
    },
    {
      "cell_type": "code",
      "execution_count": 31,
      "metadata": {
        "colab": {
          "base_uri": "https://localhost:8080/"
        },
        "id": "cbDK2MbuREgU",
        "outputId": "21a64c20-27a1-4e0e-afde-a639abaa8b55"
      },
      "outputs": [
        {
          "data": {
            "text/plain": [
              "<langgraph.graph.state.StateGraph at 0x7fec04fd3b10>"
            ]
          },
          "execution_count": 31,
          "metadata": {},
          "output_type": "execute_result"
        }
      ],
      "source": [
        "graph_with_helpfulness_check.add_edge(\"action\", \"agent\")"
      ]
    },
    {
      "cell_type": "markdown",
      "metadata": {
        "id": "rSI8AOaEVvT-"
      },
      "source": [
        "##### YOUR MARKDOWN HERE"
      ]
    },
    {
      "cell_type": "code",
      "execution_count": 32,
      "metadata": {
        "id": "oQldl8ERQ8lf"
      },
      "outputs": [],
      "source": [
        "agent_with_helpfulness_check = graph_with_helpfulness_check.compile()"
      ]
    },
    {
      "cell_type": "markdown",
      "metadata": {
        "id": "F67FGCMRVwGz"
      },
      "source": [
        "##### YOUR MARKDOWN HERE"
      ]
    },
    {
      "cell_type": "code",
      "execution_count": 33,
      "metadata": {
        "colab": {
          "base_uri": "https://localhost:8080/"
        },
        "id": "B3oo8E-PRK1T",
        "outputId": "f152dea8-96ad-4d29-d8b2-a064c96a8bd3"
      },
      "outputs": [
        {
          "name": "stdout",
          "output_type": "stream",
          "text": [
            "Receiving update from node: 'agent'\n",
            "[AIMessage(content='', additional_kwargs={'tool_calls': [{'id': 'call_S5G2AZ7d5P4QtyVOXhZgukAQ', 'function': {'arguments': '{\"query\": \"LoRA machine learning\"}', 'name': 'arxiv'}, 'type': 'function'}, {'id': 'call_7mCqhC6h1fVzg6OmguOK3SCv', 'function': {'arguments': '{\"query\": \"Tim Dettmers\"}', 'name': 'tavily_search_results_json'}, 'type': 'function'}, {'id': 'call_Pbd1crDnejnWhUG4tQApbKs4', 'function': {'arguments': '{\"query\": \"Attention mechanism in machine learning\"}', 'name': 'arxiv'}, 'type': 'function'}], 'refusal': None}, response_metadata={'token_usage': {'completion_tokens': 72, 'prompt_tokens': 177, 'total_tokens': 249, 'completion_tokens_details': {'accepted_prediction_tokens': 0, 'audio_tokens': 0, 'reasoning_tokens': 0, 'rejected_prediction_tokens': 0}, 'prompt_tokens_details': {'audio_tokens': 0, 'cached_tokens': 0}}, 'model_name': 'gpt-4o-2024-08-06', 'system_fingerprint': 'fp_07871e2ad8', 'id': 'chatcmpl-Bqmw8UIAH9mBzENPbW2jJw4sXbatl', 'service_tier': 'default', 'finish_reason': 'tool_calls', 'logprobs': None}, id='run--d30d3e4f-203a-4bb2-ad8f-3130417eb24d-0', tool_calls=[{'name': 'arxiv', 'args': {'query': 'LoRA machine learning'}, 'id': 'call_S5G2AZ7d5P4QtyVOXhZgukAQ', 'type': 'tool_call'}, {'name': 'tavily_search_results_json', 'args': {'query': 'Tim Dettmers'}, 'id': 'call_7mCqhC6h1fVzg6OmguOK3SCv', 'type': 'tool_call'}, {'name': 'arxiv', 'args': {'query': 'Attention mechanism in machine learning'}, 'id': 'call_Pbd1crDnejnWhUG4tQApbKs4', 'type': 'tool_call'}], usage_metadata={'input_tokens': 177, 'output_tokens': 72, 'total_tokens': 249, 'input_token_details': {'audio': 0, 'cache_read': 0}, 'output_token_details': {'audio': 0, 'reasoning': 0}})]\n",
            "\n",
            "\n",
            "\n",
            "Receiving update from node: 'action'\n",
            "[ToolMessage(content=\"Published: 2024-10-28\\nTitle: KD-LoRA: A Hybrid Approach to Efficient Fine-Tuning with LoRA and Knowledge Distillation\\nAuthors: Rambod Azimi, Rishav Rishav, Marek Teichmann, Samira Ebrahimi Kahou\\nSummary: Large language models (LLMs) have demonstrated remarkable performance across\\nvarious downstream tasks. However, the high computational and memory\\nrequirements of LLMs are a major bottleneck. To address this,\\nparameter-efficient fine-tuning (PEFT) methods such as low-rank adaptation\\n(LoRA) have been proposed to reduce computational costs while ensuring minimal\\nloss in performance. Additionally, knowledge distillation (KD) has been a\\npopular choice for obtaining compact student models from teacher models. In\\nthis work, we present KD-LoRA, a novel fine-tuning method that combines LoRA\\nwith KD. Our results demonstrate that KD-LoRA achieves performance comparable\\nto full fine-tuning (FFT) and LoRA while significantly reducing resource\\nrequirements. Specifically, KD-LoRA retains 98% of LoRA's performance on the\\nGLUE benchmark, while being 40% more compact. Additionally, KD-LoRA reduces GPU\\nmemory usage by 30% compared to LoRA, while decreasing inference time by 30%\\ncompared to both FFT and LoRA. We evaluate KD-LoRA across three encoder-only\\nmodels: BERT, RoBERTa, and DeBERTaV3. Code is available at\\nhttps://github.com/rambodazimi/KD-LoRA.\\n\\nPublished: 2024-04-07\\nTitle: A Note on LoRA\\nAuthors: Vlad Fomenko, Han Yu, Jongho Lee, Stanley Hsieh, Weizhu Chen\\nSummary: LoRA (Low-Rank Adaptation) has emerged as a preferred method for efficiently\\nadapting Large Language Models (LLMs) with remarkable simplicity and efficacy.\\nThis note extends the original LoRA paper by offering new perspectives that\\nwere not initially discussed and presents a series of insights for deploying\\nLoRA at scale. Without introducing new experiments, we aim to improve the\\nunderstanding and application of LoRA.\\n\\nPublished: 2024-06-18\\nTitle: LoRA-drop: Efficient LoRA Parameter Pruning based on Output Evaluation\\nAuthors: Hongyun Zhou, Xiangyu Lu, Wang Xu, Conghui Zhu, Tiejun Zhao, Muyun Yang\\nSummary: Low-Rank Adaptation (LoRA) is currently the most commonly used\\nParameter-efficient fine-tuning (PEFT) method, it introduces auxiliary\\nparameters for each layer to fine-tune the pre-trained model under limited\\ncomputing resources. However, it still faces resource consumption challenges\\nduring training when scaling up to larger models. Most previous studies have\\ntackled this issue by using pruning techniques, which involve removing LoRA\\nparameters deemed unimportant. Nonetheless, these efforts only analyze LoRA\\nparameter features to evaluate their importance, such as parameter count, size,\\nand gradient. In fact, the output of LoRA (product of LoRA parameter and hidden\\nstate), directly impacts the final results. Preliminary experiments indicate\\nthat a fraction of LoRA elements possesses significantly high output values,\\nsubstantially influencing the layer output. Motivated by the observation, we\\npropose LoRA-drop. Concretely, LoRA-drop evaluates the importance of LoRA based\\non the LoRA output. Then we retain LoRA for important layers and the other\\nlayers share the same LoRA. We conduct abundant experiments with models of\\ndifferent scales on NLU and NLG tasks. Results demonstrate that LoRA-drop can\\nachieve performance comparable to full fine-tuning and LoRA, while retaining\\n50\\\\% of the LoRA parameters on average.\", name='arxiv', id='ad1e94a1-8df0-4c9e-b3c0-847368f31b5f', tool_call_id='call_S5G2AZ7d5P4QtyVOXhZgukAQ'), ToolMessage(content='[{\"title\": \"Interviewing Tim Dettmers on open-source AI - Interconnects\", \"url\": \"https://www.interconnects.ai/p/tim-dettmers\", \"content\": \"Tim Dettmers does not need an introduction for most people building open-source AI. If you are part of that minority, you’re in for a treat. Tim is the lead developer behind most of the open-source tools for quantization: QLoRA, bitsandbytes, 4 and 8 bit inference, and plenty more. He recently finished his Ph.D. at the University of Washington, is now a researcher at the Allen Institute for AI, and is starting as a professor at Carnegie Mellon University in fall of 2025. [...] Tim is a joy to talk to. He thinks independently on all the AI issues of today, bringing new perspectives that challenge the status quo. At the same time, he’s sincere and very helpful to work with, working hard to uplift those around him and the academic community. There’s a reason he’s so loved in the open-source AI community. We cover: [...] Nathan Lambert \\\\\\\\[01:06:39\\\\\\\\]: What is the difference? What would be the core technique?\\\\n\\\\nTim Dettmers \\\\\\\\[01:06:44\\\\\\\\]: It\\'s more fine grain control. So you can say like, if certain evaluation has certain value, go along this branch. Whereas an agent, you would say like, here\\'s my prompt and do what the answer says. And it\\'s like, it makes no sense. Yeah, it\\'s a mess.\", \"score\": 0.7591723}, {\"title\": \"About Me - Tim Dettmers\", \"url\": \"https://timdettmers.com/about/\", \"content\": \"Research Interests  \\\\nPublications  \\\\nAwards & Honors  \\\\nService\\\\n\\\\nGoogle Scholar\\\\n\\\\nfirstname.lastname@gmail.com\\\\n\\\\nImage 1I am a research scientist at the Allen Institute for Artificial Intelligence (Ai2) and an incoming Assistant Professor at Carnegie Mellon University (CMU). I am the creator and maintainer of bitsandbytes. [...] I have a PhD from University of Washington advised by Luke Zettlemoyer working on efficient deep learning at the intersection between machine learning, natural language processing, and computer systems with a focus on quantization and sparsity. My main research goal is to empower everyone to make AI their own. I do this by making large models accessible through my research (QLoRA, LLM.int8(), k-bit inference scaling laws, Petals, SWARM) and by developing software that makes it easy to use my [...] About Me — Tim Dettmers\\\\n===============  \\\\n\\\\nSkip links\\\\n----------\\\\n\\\\n   Skip to primary navigation\\\\n   Skip to content\\\\n   Skip to primary sidebar\\\\n\\\\nTim Dettmers\\\\n\\\\nMaking deep learning accessible.\\\\n\\\\nHeader Right\\\\n------------\\\\n\\\\n### Blog Posts Topics\\\\n\\\\n   Academia (4)\\\\n       PhD Life (3)\\\\n   Deep Learning (7)\\\\n   Hardware (8)\\\\n   Science (4)\\\\n       Neuroscience (1)\\\\n\\\\nMain navigation\\\\n---------------\\\\n\\\\n   Blog\\\\n       Deep Learning\\\\n       Hardware\\\\n       Neuroscience\\\\n   Publications\\\\n   About Me\\\\n\\\\nAbout Me\\\\n========\", \"score\": 0.68318754}, {\"title\": \"Tim Dettmers | Carnegie Mellon University Computer Science ...\", \"url\": \"https://csd.cmu.edu/people/faculty/tim-dettmers\", \"content\": \"X\\\\n\\\\nBreadcrumb\\\\n----------\\\\n\\\\n1.  Home\\\\n2.  People\\\\n3.  Faculty\\\\n4.  Tim Dettmers\\\\n\\\\nTim Dettmers\\\\n============\\\\n\\\\nImage 2: Tim DettmersAssistant Professor\\\\n\\\\nWebsite\\\\n\\\\nGoogle Scholars Link\\\\n\\\\nEmail dettmers@cmu.edu\\\\n\\\\nDepartment  \\\\nMachine Learning Department  \\\\nComputer Science Department\\\\n\\\\nComputer Science Department\\\\n---------------------------\\\\n\\\\nCarnegie Mellon University\\\\n\\\\n5000 Forbes Avenue\\\\n\\\\nPittsburgh, PA 15213\\\\n\\\\nFax: 412-268-5576\\\\n\\\\n            \\\\n\\\\nImage 3: Carnegie Mellon University School of Computer Science [...] About\\\\n    \\\\n    ### Back to Main Menu\\\\n    \\\\n    ### About Main page\\\\n    \\\\n       About  \\\\n        Related links\\\\n           Events\\\\n           News\\\\n           Key Contacts\\\\n           History\\\\n           Sitemap\\\\n       Employment  \\\\n        Related links\\\\n           Faculty Hiring\\\\n           Staff Hiring\\\\n       Marketing & Communications  \\\\n        Related links\\\\n           SCS Marketing & Communications\\\\n           Partnerships\\\\n           Employer Recruiting\\\\n           CMU Marketing & Communications\", \"score\": 0.6729558}, {\"title\": \"The Best GPUs for Deep Learning in 2023 - Tim Dettmers\", \"url\": \"https://timdettmers.com/2023/01/30/which-gpu-for-deep-learning/\", \"content\": \"Hi Tim, I have a EVGA 3090 FTW3 Ultra Hybrid () and a EVGA 3090 XC3 Ultra Hybrid (). I want to build a Deep Learning workstation using those two GPUs. However, they are a little different although both of them are 3090. Will there be any compatibility issue (or will one of them be bottleneck) because of the differences between two cards? If so, I will refund one of them and get a new one.\\\\n\\\\nThank you!\\\\n\\\\nTim Dettmers says\\\\n\\\\n2021-01-02 at 01:30\\\\n\\\\nHi edi, both cards should work just fine together. [...] Specifically, if I buy two RTX 3080 (with 10Gb memory each), will I be able to train models larger than 10Gb ? Or should I buy a RTX 3090 if I plan to do so ?\\\\n\\\\nTim Dettmers says\\\\n\\\\n2021-01-02 at 00:57\\\\n\\\\nHi Antoine,\\\\n\\\\nthat only works if you use model parallelism, which is getting more and more common, but which is not yet as widely supported as data parallelism. For now, a single RTX 3090 will be better for training large models.\\\\n\\\\nGokhan T says\\\\n\\\\n2020-11-09 at 08:11 [...] I am looking the mining gpu P106-100 which seems to be the same as a gtx1060 without video port.  \\\\n I don’t know if it is CUDA compatible.  \\\\n I want to run yolo over darknet. Will it work?\\\\n\\\\nThanks\\\\n\\\\nTim Dettmers says\\\\n\\\\n2020-07-03 at 07:55\\\\n\\\\nIt is CUDA compatible and you should be able to run yolo on it. You might need to downsample the images slightly but it should work smoothly.\\\\n\\\\nAndrea says\\\\n\\\\n2020-05-13 at 02:51\\\\n\\\\nHi Tim,\\\\n\\\\nThank you very much for your article, it’s just great!\", \"score\": 0.6533265}, {\"title\": \"Tim Dettmers - Google Scholar\", \"url\": \"https://scholar.google.com/citations?user=lHI3w5kAAAAJ&hl=en\", \"content\": \"Follow)\\\\n\\\\nImage 8: Tim Dettmers\\\\n\\\\nTim Dettmers\\\\n\\\\nAllen Institute for AI; Carnegie Mellon University\\\\n\\\\nVerified email at allenai.org - Homepage\\\\n\\\\nDeep LearningNatural Language Processing\\\\n\\\\nArticles)Cited by)Public access)Co-authors)\\\\n\\\\n|  |  |  |\\\\n| --- | --- | --- |\\\\n| Title\\\\nSort\\\\n\\\\nSort by citationsSort by yearSort by title\\\\n\\\\n | \\\\n\\\\nCited by\\\\n\\\\nCited by\\\\n\\\\n | Year |\\\\n| --- | --- | --- |\\\\n| Convolutional 2d knowledge graph embeddings\\\\n\\\\nT Dettmers, P Minervini, P Stenetorp, S Riedel\\\\n\\\\nAAAI 2018, 2018\", \"score\": 0.56258565}]', name='tavily_search_results_json', id='ff642dde-a345-46d0-a818-4742b6b924fb', tool_call_id='call_7mCqhC6h1fVzg6OmguOK3SCv', artifact={'query': 'Tim Dettmers', 'follow_up_questions': None, 'answer': None, 'images': [], 'results': [{'url': 'https://www.interconnects.ai/p/tim-dettmers', 'title': 'Interviewing Tim Dettmers on open-source AI - Interconnects', 'content': \"Tim Dettmers does not need an introduction for most people building open-source AI. If you are part of that minority, you’re in for a treat. Tim is the lead developer behind most of the open-source tools for quantization: QLoRA, bitsandbytes, 4 and 8 bit inference, and plenty more. He recently finished his Ph.D. at the University of Washington, is now a researcher at the Allen Institute for AI, and is starting as a professor at Carnegie Mellon University in fall of 2025. [...] Tim is a joy to talk to. He thinks independently on all the AI issues of today, bringing new perspectives that challenge the status quo. At the same time, he’s sincere and very helpful to work with, working hard to uplift those around him and the academic community. There’s a reason he’s so loved in the open-source AI community. We cover: [...] Nathan Lambert \\\\[01:06:39\\\\]: What is the difference? What would be the core technique?\\n\\nTim Dettmers \\\\[01:06:44\\\\]: It's more fine grain control. So you can say like, if certain evaluation has certain value, go along this branch. Whereas an agent, you would say like, here's my prompt and do what the answer says. And it's like, it makes no sense. Yeah, it's a mess.\", 'score': 0.7591723, 'raw_content': None}, {'url': 'https://timdettmers.com/about/', 'title': 'About Me - Tim Dettmers', 'content': 'Research Interests  \\nPublications  \\nAwards & Honors  \\nService\\n\\nGoogle Scholar\\n\\nfirstname.lastname@gmail.com\\n\\nImage 1I am a research scientist at the Allen Institute for Artificial Intelligence (Ai2) and an incoming Assistant Professor at Carnegie Mellon University (CMU). I am the creator and maintainer of bitsandbytes. [...] I have a PhD from University of Washington advised by Luke Zettlemoyer working on efficient deep learning at the intersection between machine learning, natural language processing, and computer systems with a focus on quantization and sparsity. My main research goal is to empower everyone to make AI their own. I do this by making large models accessible through my research (QLoRA, LLM.int8(), k-bit inference scaling laws, Petals, SWARM) and by developing software that makes it easy to use my [...] About Me — Tim Dettmers\\n===============  \\n\\nSkip links\\n----------\\n\\n   Skip to primary navigation\\n   Skip to content\\n   Skip to primary sidebar\\n\\nTim Dettmers\\n\\nMaking deep learning accessible.\\n\\nHeader Right\\n------------\\n\\n### Blog Posts Topics\\n\\n   Academia (4)\\n       PhD Life (3)\\n   Deep Learning (7)\\n   Hardware (8)\\n   Science (4)\\n       Neuroscience (1)\\n\\nMain navigation\\n---------------\\n\\n   Blog\\n       Deep Learning\\n       Hardware\\n       Neuroscience\\n   Publications\\n   About Me\\n\\nAbout Me\\n========', 'score': 0.68318754, 'raw_content': None}, {'url': 'https://csd.cmu.edu/people/faculty/tim-dettmers', 'title': 'Tim Dettmers | Carnegie Mellon University Computer Science ...', 'content': 'X\\n\\nBreadcrumb\\n----------\\n\\n1.  Home\\n2.  People\\n3.  Faculty\\n4.  Tim Dettmers\\n\\nTim Dettmers\\n============\\n\\nImage 2: Tim DettmersAssistant Professor\\n\\nWebsite\\n\\nGoogle Scholars Link\\n\\nEmail dettmers@cmu.edu\\n\\nDepartment  \\nMachine Learning Department  \\nComputer Science Department\\n\\nComputer Science Department\\n---------------------------\\n\\nCarnegie Mellon University\\n\\n5000 Forbes Avenue\\n\\nPittsburgh, PA 15213\\n\\nFax: 412-268-5576\\n\\n            \\n\\nImage 3: Carnegie Mellon University School of Computer Science [...] About\\n    \\n    ### Back to Main Menu\\n    \\n    ### About Main page\\n    \\n       About  \\n        Related links\\n           Events\\n           News\\n           Key Contacts\\n           History\\n           Sitemap\\n       Employment  \\n        Related links\\n           Faculty Hiring\\n           Staff Hiring\\n       Marketing & Communications  \\n        Related links\\n           SCS Marketing & Communications\\n           Partnerships\\n           Employer Recruiting\\n           CMU Marketing & Communications', 'score': 0.6729558, 'raw_content': None}, {'title': 'The Best GPUs for Deep Learning in 2023 - Tim Dettmers', 'url': 'https://timdettmers.com/2023/01/30/which-gpu-for-deep-learning/', 'content': 'Hi Tim, I have a EVGA 3090 FTW3 Ultra Hybrid () and a EVGA 3090 XC3 Ultra Hybrid (). I want to build a Deep Learning workstation using those two GPUs. However, they are a little different although both of them are 3090. Will there be any compatibility issue (or will one of them be bottleneck) because of the differences between two cards? If so, I will refund one of them and get a new one.\\n\\nThank you!\\n\\nTim Dettmers says\\n\\n2021-01-02 at 01:30\\n\\nHi edi, both cards should work just fine together. [...] Specifically, if I buy two RTX 3080 (with 10Gb memory each), will I be able to train models larger than 10Gb ? Or should I buy a RTX 3090 if I plan to do so ?\\n\\nTim Dettmers says\\n\\n2021-01-02 at 00:57\\n\\nHi Antoine,\\n\\nthat only works if you use model parallelism, which is getting more and more common, but which is not yet as widely supported as data parallelism. For now, a single RTX 3090 will be better for training large models.\\n\\nGokhan T says\\n\\n2020-11-09 at 08:11 [...] I am looking the mining gpu P106-100 which seems to be the same as a gtx1060 without video port.  \\n I don’t know if it is CUDA compatible.  \\n I want to run yolo over darknet. Will it work?\\n\\nThanks\\n\\nTim Dettmers says\\n\\n2020-07-03 at 07:55\\n\\nIt is CUDA compatible and you should be able to run yolo on it. You might need to downsample the images slightly but it should work smoothly.\\n\\nAndrea says\\n\\n2020-05-13 at 02:51\\n\\nHi Tim,\\n\\nThank you very much for your article, it’s just great!', 'score': 0.6533265, 'raw_content': None}, {'url': 'https://scholar.google.com/citations?user=lHI3w5kAAAAJ&hl=en', 'title': 'Tim Dettmers - Google Scholar', 'content': 'Follow)\\n\\nImage 8: Tim Dettmers\\n\\nTim Dettmers\\n\\nAllen Institute for AI; Carnegie Mellon University\\n\\nVerified email at allenai.org - Homepage\\n\\nDeep LearningNatural Language Processing\\n\\nArticles)Cited by)Public access)Co-authors)\\n\\n|  |  |  |\\n| --- | --- | --- |\\n| Title\\nSort\\n\\nSort by citationsSort by yearSort by title\\n\\n | \\n\\nCited by\\n\\nCited by\\n\\n | Year |\\n| --- | --- | --- |\\n| Convolutional 2d knowledge graph embeddings\\n\\nT Dettmers, P Minervini, P Stenetorp, S Riedel\\n\\nAAAI 2018, 2018', 'score': 0.56258565, 'raw_content': None}], 'response_time': 5.61}), ToolMessage(content='Published: 2022-03-27\\nTitle: A General Survey on Attention Mechanisms in Deep Learning\\nAuthors: Gianni Brauwers, Flavius Frasincar\\nSummary: Attention is an important mechanism that can be employed for a variety of\\ndeep learning models across many different domains and tasks. This survey\\nprovides an overview of the most important attention mechanisms proposed in the\\nliterature. The various attention mechanisms are explained by means of a\\nframework consisting of a general attention model, uniform notation, and a\\ncomprehensive taxonomy of attention mechanisms. Furthermore, the various\\nmeasures for evaluating attention models are reviewed, and methods to\\ncharacterize the structure of attention models based on the proposed framework\\nare discussed. Last, future work in the field of attention models is\\nconsidered.\\n\\nPublished: 2022-07-04\\nTitle: Attention mechanisms for physiological signal deep learning: which attention should we take?\\nAuthors: Seong-A Park, Hyung-Chul Lee, Chul-Woo Jung, Hyun-Lim Yang\\nSummary: Attention mechanisms are widely used to dramatically improve deep learning\\nmodel performance in various fields. However, their general ability to improve\\nthe performance of physiological signal deep learning model is immature. In\\nthis study, we experimentally analyze four attention mechanisms (e.g.,\\nsqueeze-and-excitation, non-local, convolutional block attention module, and\\nmulti-head self-attention) and three convolutional neural network (CNN)\\narchitectures (e.g., VGG, ResNet, and Inception) for two representative\\nphysiological signal prediction tasks: the classification for predicting\\nhypotension and the regression for predicting cardiac output (CO). We evaluated\\nmultiple combinations for performance and convergence of physiological signal\\ndeep learning model. Accordingly, the CNN models with the spatial attention\\nmechanism showed the best performance in the classification problem, whereas\\nthe channel attention mechanism achieved the lowest error in the regression\\nproblem. Moreover, the performance and convergence of the CNN models with\\nattention mechanisms were better than stand-alone self-attention models in both\\nproblems. Hence, we verified that convolutional operation and attention\\nmechanisms are complementary and provide faster convergence time, despite the\\nstand-alone self-attention models requiring fewer parameters.\\n\\nPublished: 2018-10-17\\nTitle: An Analysis of Attention Mechanisms: The Case of Word Sense Disambiguation in Neural Machine Translation\\nAuthors: Gongbo Tang, Rico Sennrich, Joakim Nivre\\nSummary: Recent work has shown that the encoder-decoder attention mechanisms in neural\\nmachine translation (NMT) are different from the word alignment in statistical\\nmachine translation. In this paper, we focus on analyzing encoder-decoder\\nattention mechanisms, in the case of word sense disambiguation (WSD) in NMT\\nmodels. We hypothesize that attention mechanisms pay more attention to context\\ntokens when translating ambiguous words. We explore the attention distribution\\npatterns when translating ambiguous nouns. Counter-intuitively, we find that\\nattention mechanisms are likely to distribute more attention to the ambiguous\\nnoun itself rather than context tokens, in comparison to other nouns. We\\nconclude that attention mechanism is not the main mechanism used by NMT models\\nto incorporate contextual information for WSD. The experimental results suggest\\nthat NMT models learn to encode contextual information necessary for WSD in the\\nencoder hidden states. For the attention mechanism in Transformer models, we\\nreveal that the first few layers gradually learn to \"align\" source and target\\ntokens and the last few layers learn to extract features from the related but\\nunaligned context tokens.', name='arxiv', id='1704d0ce-f67d-4e61-812a-ef119beae90b', tool_call_id='call_Pbd1crDnejnWhUG4tQApbKs4')]\n",
            "\n",
            "\n",
            "\n",
            "Receiving update from node: 'agent'\n",
            "[AIMessage(content='### LoRA in Machine Learning\\nLoRA, or Low-Rank Adaptation, is a method used for efficiently adapting large language models (LLMs) with minimal computational resources. It introduces auxiliary parameters for each layer to fine-tune pre-trained models, making it a popular parameter-efficient fine-tuning (PEFT) method. LoRA aims to reduce computational costs while maintaining performance. Recent advancements like KD-LoRA combine LoRA with knowledge distillation to further enhance efficiency, reducing GPU memory usage and inference time significantly.\\n\\n### Tim Dettmers\\nTim Dettmers is a prominent figure in the open-source AI community, known for his work on quantization and efficient deep learning. He is the creator of tools like QLoRA and bitsandbytes, which are used for 4 and 8-bit inference. Dettmers completed his Ph.D. at the University of Washington and is a researcher at the Allen Institute for AI. He is set to join Carnegie Mellon University as a professor in 2025. His work focuses on making AI accessible by developing software that simplifies the use of large models.\\n\\n### Attention Mechanism in Machine Learning\\nAttention mechanisms are crucial in deep learning models, enhancing performance across various domains. They allow models to focus on specific parts of the input data, improving tasks like translation and classification. Different types of attention mechanisms, such as multi-head self-attention and squeeze-and-excitation, are used depending on the task. These mechanisms help models to better understand context and improve convergence times, making them complementary to convolutional operations in neural networks.', additional_kwargs={'refusal': None}, response_metadata={'token_usage': {'completion_tokens': 316, 'prompt_tokens': 3530, 'total_tokens': 3846, 'completion_tokens_details': {'accepted_prediction_tokens': 0, 'audio_tokens': 0, 'reasoning_tokens': 0, 'rejected_prediction_tokens': 0}, 'prompt_tokens_details': {'audio_tokens': 0, 'cached_tokens': 0}}, 'model_name': 'gpt-4o-2024-08-06', 'system_fingerprint': 'fp_07871e2ad8', 'id': 'chatcmpl-BqmwJLjfzhjZZISEIdH92AzrGZ4aY', 'service_tier': 'default', 'finish_reason': 'stop', 'logprobs': None}, id='run--da3e4d74-0b6a-47b2-b763-08db9c460cc7-0', usage_metadata={'input_tokens': 3530, 'output_tokens': 316, 'total_tokens': 3846, 'input_token_details': {'audio': 0, 'cache_read': 0}, 'output_token_details': {'audio': 0, 'reasoning': 0}})]\n",
            "\n",
            "\n",
            "\n"
          ]
        }
      ],
      "source": [
        "inputs = {\"messages\" : [HumanMessage(content=\"Related to machine learning, what is LoRA? Also, who is Tim Dettmers? Also, what is Attention?\")]}\n",
        "\n",
        "async for chunk in agent_with_helpfulness_check.astream(inputs, stream_mode=\"updates\"):\n",
        "    for node, values in chunk.items():\n",
        "        print(f\"Receiving update from node: '{node}'\")\n",
        "        print(values[\"messages\"])\n",
        "        print(\"\\n\\n\")"
      ]
    },
    {
      "cell_type": "markdown",
      "metadata": {
        "id": "yVmZPs6lnpsM"
      },
      "source": [
        "### Task 4: LangGraph for the \"Patterns\" of GenAI\n",
        "\n",
        "Let's ask our system about the 4 patterns of Generative AI:\n",
        "\n",
        "1. Prompt Engineering\n",
        "2. RAG\n",
        "3. Fine-tuning\n",
        "4. Agents"
      ]
    },
    {
      "cell_type": "code",
      "execution_count": 34,
      "metadata": {
        "id": "ZoLl7GlXoae-"
      },
      "outputs": [],
      "source": [
        "patterns = [\"prompt engineering\", \"RAG\", \"fine-tuning\", \"LLM-based agents\"]"
      ]
    },
    {
      "cell_type": "code",
      "execution_count": 35,
      "metadata": {
        "colab": {
          "base_uri": "https://localhost:8080/"
        },
        "id": "Zkh0YJuCp3Zl",
        "outputId": "d847426e-71b3-47e6-b1ae-351a78d68d1e"
      },
      "outputs": [
        {
          "name": "stdout",
          "output_type": "stream",
          "text": [
            "**Prompt Engineering: Definition and Overview**\n",
            "\n",
            "Prompt engineering is the process of crafting instructions or prompts to produce the best possible output from a generative artificial intelligence (AI) model. It involves structuring words and phrases that can be interpreted and understood by AI models, such as text-to-image or text-to-text models. The goal is to efficiently convey the task or query to be executed by the AI model, ensuring coherent and contextually relevant responses. This process is crucial for improving AI interactions across various applications, from content generation to code generation.\n",
            "\n",
            "**History and Emergence of Prompt Engineering**\n",
            "\n",
            "Prompt engineering is a relatively new discipline that has emerged alongside the development and evolution of natural language processing (NLP) and AI systems. It gained significant attention with the rise of transformer-based models and the widespread adoption of AI tools like OpenAI's GPT-3. The release of ChatGPT in 2022 marked a pivotal moment, as prompt engineering became recognized as an important business skill. The practice of prompt engineering is deeply rooted in the broader history of NLP and machine learning, serving as a bridge to make AI tools more accessible and user-friendly.\n",
            "\n",
            "\n",
            "\n",
            "Retrieval-Augmented Generation (RAG) is a technology that was first introduced in 2020. It was developed by a team of researchers including Douwe Kiela, Patrick Lewis, Ethan Perez, and others, as detailed in their research paper titled \"Retrieval-Augmented Generation for Knowledge-Intensive NLP Tasks.\" RAG combines retrieval techniques with generative models to enhance the capabilities of AI systems, particularly in accessing and leveraging external knowledge for more accurate and informative text generation. This approach has been pivotal in advancing AI systems to handle knowledge-intensive tasks more effectively.\n",
            "\n",
            "\n",
            "\n",
            "Fine-tuning in machine learning is a technique used in transfer learning where a pre-trained neural network model is further trained on new data. This process can involve adjusting the entire network or just a subset of its layers, with the rest being \"frozen\" (i.e., not updated during training). Fine-tuning allows models to adapt to specific tasks or datasets while leveraging the knowledge gained from the initial training on a larger, more general dataset.\n",
            "\n",
            "The concept of fine-tuning has been around for some time, but it gained significant attention with the rise of deep learning and transfer learning techniques. The approach became particularly prominent with the development of large pre-trained models, such as those used in natural language processing and computer vision, where fine-tuning allows these models to be adapted to specific tasks with relatively little additional data.\n",
            "\n",
            "For more detailed insights, you can refer to the [Wikipedia article on fine-tuning in deep learning](https://en.wikipedia.org/wiki/Fine-tuning_(deep_learning)) and the [arXiv paper on the evolution of fine-tuning methodologies](https://arxiv.org/abs/2408.13296).\n",
            "\n",
            "\n",
            "\n",
            "LLM-based agents, or Large Language Model-based agents, are systems that utilize large language models (LLMs) to perform complex tasks by integrating reasoning, memory, and task execution capabilities. These agents are designed to perceive their environment, process information, and take actions to achieve specific goals. They are often used in applications that require complex reasoning skills, such as data curation, e-commerce recommendation systems, and mental well-being support.\n",
            "\n",
            "The concept of LLM-based agents has evolved from the broader field of AI agents, which have philosophical origins and have been developed over time to include various components like planning and memory. LLMs serve as the \"brain\" of these agents, controlling the flow of operations needed to complete tasks or user requests.\n",
            "\n",
            "The emergence of LLM-based agents can be traced back to projects like AutoGPT and BabyAGI, where complex problems were solved with minimal human intervention. These agents have gained attention for their ability to execute tasks autonomously and are considered a foundation for agentic business automation.\n",
            "\n",
            "The development of LLM-based agents has been documented in various research papers and articles, with significant contributions made in recent years. For instance, a comprehensive survey on LLM-based agents was published in 2023, exploring their applications in single-agent scenarios, multi-agent scenarios, and human-agent cooperation.\n",
            "\n",
            "Overall, LLM-based agents represent a significant advancement in AI, leveraging the capabilities of large language models to perform complex and autonomous tasks across various domains.\n",
            "\n",
            "\n",
            "\n"
          ]
        }
      ],
      "source": [
        "for pattern in patterns:\n",
        "  what_is_string = f\"What is {pattern} and when did it break onto the scene??\"\n",
        "  inputs = {\"messages\" : [HumanMessage(content=what_is_string)]}\n",
        "  messages = agent_with_helpfulness_check.invoke(inputs)\n",
        "  print(messages[\"messages\"][-1].content)\n",
        "  print(\"\\n\\n\")"
      ]
    }
  ],
  "metadata": {
    "colab": {
      "provenance": []
    },
    "kernelspec": {
      "display_name": ".venv",
      "language": "python",
      "name": "python3"
    },
    "language_info": {
      "codemirror_mode": {
        "name": "ipython",
        "version": 3
      },
      "file_extension": ".py",
      "mimetype": "text/x-python",
      "name": "python",
      "nbconvert_exporter": "python",
      "pygments_lexer": "ipython3",
      "version": "3.13.4"
    }
  },
  "nbformat": 4,
  "nbformat_minor": 0
}
